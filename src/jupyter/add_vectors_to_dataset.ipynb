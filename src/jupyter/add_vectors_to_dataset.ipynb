{
 "cells": [
  {
   "cell_type": "code",
   "execution_count": 2,
   "metadata": {
    "collapsed": true,
    "pycharm": {
     "name": "#%%\n"
    }
   },
   "outputs": [
    {
     "name": "stderr",
     "output_type": "stream",
     "text": [
      "/home/ekaterina/Documents/ucheb/diplom/itmo-source-code-changes-analyser/venv/lib/python3.8/site-packages/pandas/compat/__init__.py:97: UserWarning: Could not import the lzma module. Your installed Python is incomplete. Attempting to use lzma compression will result in a RuntimeError.\n",
      "  warnings.warn(msg)\n"
     ]
    }
   ],
   "source": [
    "        import pandas as pd\n",
    "import numpy as np"
   ]
  },
  {
   "cell_type": "code",
   "execution_count": 3,
   "outputs": [
    {
     "data": {
      "text/plain": "                            file_name  file_type  file_diff_type  is_added  \\\n0                .ng-dev/caretaker.ts          1               1         0   \n1                   .ng-dev/config.ts          1               2         0   \n2  dev-infra/caretaker/check/check.ts          1               1         0   \n3    dev-infra/caretaker/check/cli.ts          1               1         0   \n4     dev-infra/caretaker/check/g3.ts          1               1         0   \n\n   is_deleted  is_modified  is_renamed  \\\n0           1            0           0   \n1           0            1           0   \n2           1            0           0   \n3           1            0           0   \n4           1            0           0   \n\n                                           file_diff  \\\n0   +  - import {CaretakerConfig} from '../dev-in...   \n1   - import {caretaker} from './caretaker';-   c...   \n2   +  - /**-  * @license-  * Copyright Google LL...   \n3   +  - /**-  * @license-  * Copyright Google LL...   \n4   +  - /**-  * @license-  * Copyright Google LL...   \n\n                                         file_before  \\\n0  import {CaretakerConfig} from '../dev-infra/ca...   \n1  import {caretaker} from './caretaker';\\nimport...   \n2  /**\\n * @license\\n * Copyright Google LLC All ...   \n3  /**\\n * @license\\n * Copyright Google LLC All ...   \n4  /**\\n * @license\\n * Copyright Google LLC All ...   \n\n                                          file_after  \\\n0                                                      \n1  import {commitMessage} from './commit-message'...   \n2                                                      \n3                                                      \n4                                                      \n\n                                  commit_id  commit_type  \n0  f815aa19914a8cd55dc8db2a41254248ee0b83c8            1  \n1  f815aa19914a8cd55dc8db2a41254248ee0b83c8            1  \n2  1523f217e27be965ae41a1d3973a0226ee646de8            2  \n3  1523f217e27be965ae41a1d3973a0226ee646de8            2  \n4  1523f217e27be965ae41a1d3973a0226ee646de8            2  ",
      "text/html": "<div>\n<style scoped>\n    .dataframe tbody tr th:only-of-type {\n        vertical-align: middle;\n    }\n\n    .dataframe tbody tr th {\n        vertical-align: top;\n    }\n\n    .dataframe thead th {\n        text-align: right;\n    }\n</style>\n<table border=\"1\" class=\"dataframe\">\n  <thead>\n    <tr style=\"text-align: right;\">\n      <th></th>\n      <th>file_name</th>\n      <th>file_type</th>\n      <th>file_diff_type</th>\n      <th>is_added</th>\n      <th>is_deleted</th>\n      <th>is_modified</th>\n      <th>is_renamed</th>\n      <th>file_diff</th>\n      <th>file_before</th>\n      <th>file_after</th>\n      <th>commit_id</th>\n      <th>commit_type</th>\n    </tr>\n  </thead>\n  <tbody>\n    <tr>\n      <th>0</th>\n      <td>.ng-dev/caretaker.ts</td>\n      <td>1</td>\n      <td>1</td>\n      <td>0</td>\n      <td>1</td>\n      <td>0</td>\n      <td>0</td>\n      <td>+  - import {CaretakerConfig} from '../dev-in...</td>\n      <td>import {CaretakerConfig} from '../dev-infra/ca...</td>\n      <td></td>\n      <td>f815aa19914a8cd55dc8db2a41254248ee0b83c8</td>\n      <td>1</td>\n    </tr>\n    <tr>\n      <th>1</th>\n      <td>.ng-dev/config.ts</td>\n      <td>1</td>\n      <td>2</td>\n      <td>0</td>\n      <td>0</td>\n      <td>1</td>\n      <td>0</td>\n      <td>- import {caretaker} from './caretaker';-   c...</td>\n      <td>import {caretaker} from './caretaker';\\nimport...</td>\n      <td>import {commitMessage} from './commit-message'...</td>\n      <td>f815aa19914a8cd55dc8db2a41254248ee0b83c8</td>\n      <td>1</td>\n    </tr>\n    <tr>\n      <th>2</th>\n      <td>dev-infra/caretaker/check/check.ts</td>\n      <td>1</td>\n      <td>1</td>\n      <td>0</td>\n      <td>1</td>\n      <td>0</td>\n      <td>0</td>\n      <td>+  - /**-  * @license-  * Copyright Google LL...</td>\n      <td>/**\\n * @license\\n * Copyright Google LLC All ...</td>\n      <td></td>\n      <td>1523f217e27be965ae41a1d3973a0226ee646de8</td>\n      <td>2</td>\n    </tr>\n    <tr>\n      <th>3</th>\n      <td>dev-infra/caretaker/check/cli.ts</td>\n      <td>1</td>\n      <td>1</td>\n      <td>0</td>\n      <td>1</td>\n      <td>0</td>\n      <td>0</td>\n      <td>+  - /**-  * @license-  * Copyright Google LL...</td>\n      <td>/**\\n * @license\\n * Copyright Google LLC All ...</td>\n      <td></td>\n      <td>1523f217e27be965ae41a1d3973a0226ee646de8</td>\n      <td>2</td>\n    </tr>\n    <tr>\n      <th>4</th>\n      <td>dev-infra/caretaker/check/g3.ts</td>\n      <td>1</td>\n      <td>1</td>\n      <td>0</td>\n      <td>1</td>\n      <td>0</td>\n      <td>0</td>\n      <td>+  - /**-  * @license-  * Copyright Google LL...</td>\n      <td>/**\\n * @license\\n * Copyright Google LLC All ...</td>\n      <td></td>\n      <td>1523f217e27be965ae41a1d3973a0226ee646de8</td>\n      <td>2</td>\n    </tr>\n  </tbody>\n</table>\n</div>"
     },
     "execution_count": 3,
     "metadata": {},
     "output_type": "execute_result"
    }
   ],
   "source": [
    "dataset = pd.read_csv('../../data/train/angular_ts.csv')\n",
    "dataset.head(5)"
   ],
   "metadata": {
    "collapsed": false,
    "pycharm": {
     "name": "#%%\n"
    }
   }
  },
  {
   "cell_type": "code",
   "execution_count": 4,
   "outputs": [
    {
     "data": {
      "text/plain": "   Unnamed: 0                                               name  \\\n0           0  aio/aio-builds-setup/dockerbuild/scripts-js/li...   \n1           1  aio/aio-builds-setup/dockerbuild/scripts-js/li...   \n2           2  aio/aio-builds-setup/dockerbuild/scripts-js/li...   \n3           3  aio/aio-builds-setup/dockerbuild/scripts-js/li...   \n4           4  aio/aio-builds-setup/dockerbuild/scripts-js/li...   \n\n                                  commit_id  \\\n0  021f4344b117f20530fa1de2a80a6384ce3e15d8   \n1  060d02eb82814abb1c2755b823e41f8b24e9d576   \n2  115164033b9ec34f4b9437615816a04fd2922e08   \n3  18c4976f3b88dd82b3aa47e0b9ee6058cfd19ac2   \n4  2f791ce68bbd7cd501cd3dfd95448e456d000515   \n\n                                        vector_after  \\\n0  0.023059685 0.0022186898 -0.40449363 0.4058592...   \n1  -0.03071572 -0.032911204 -0.43068093 0.4874790...   \n2                                                  0   \n3  -0.02979016 -0.025057765 -0.41759005 0.4805435...   \n4  0.023059685 0.0022186898 -0.40449363 0.4058592...   \n\n                                       vector_before  \n0  0.024417812 0.0028294062 -0.40407944 0.4051643...  \n1  -0.03071572 -0.032911204 -0.43068093 0.4874790...  \n2  -0.03071572 -0.032911204 -0.43068093 0.4874790...  \n3  -0.02979016 -0.025057765 -0.41759005 0.4805435...  \n4  0.023059685 0.0022186898 -0.40449363 0.4058592...  ",
      "text/html": "<div>\n<style scoped>\n    .dataframe tbody tr th:only-of-type {\n        vertical-align: middle;\n    }\n\n    .dataframe tbody tr th {\n        vertical-align: top;\n    }\n\n    .dataframe thead th {\n        text-align: right;\n    }\n</style>\n<table border=\"1\" class=\"dataframe\">\n  <thead>\n    <tr style=\"text-align: right;\">\n      <th></th>\n      <th>Unnamed: 0</th>\n      <th>name</th>\n      <th>commit_id</th>\n      <th>vector_after</th>\n      <th>vector_before</th>\n    </tr>\n  </thead>\n  <tbody>\n    <tr>\n      <th>0</th>\n      <td>0</td>\n      <td>aio/aio-builds-setup/dockerbuild/scripts-js/li...</td>\n      <td>021f4344b117f20530fa1de2a80a6384ce3e15d8</td>\n      <td>0.023059685 0.0022186898 -0.40449363 0.4058592...</td>\n      <td>0.024417812 0.0028294062 -0.40407944 0.4051643...</td>\n    </tr>\n    <tr>\n      <th>1</th>\n      <td>1</td>\n      <td>aio/aio-builds-setup/dockerbuild/scripts-js/li...</td>\n      <td>060d02eb82814abb1c2755b823e41f8b24e9d576</td>\n      <td>-0.03071572 -0.032911204 -0.43068093 0.4874790...</td>\n      <td>-0.03071572 -0.032911204 -0.43068093 0.4874790...</td>\n    </tr>\n    <tr>\n      <th>2</th>\n      <td>2</td>\n      <td>aio/aio-builds-setup/dockerbuild/scripts-js/li...</td>\n      <td>115164033b9ec34f4b9437615816a04fd2922e08</td>\n      <td>0</td>\n      <td>-0.03071572 -0.032911204 -0.43068093 0.4874790...</td>\n    </tr>\n    <tr>\n      <th>3</th>\n      <td>3</td>\n      <td>aio/aio-builds-setup/dockerbuild/scripts-js/li...</td>\n      <td>18c4976f3b88dd82b3aa47e0b9ee6058cfd19ac2</td>\n      <td>-0.02979016 -0.025057765 -0.41759005 0.4805435...</td>\n      <td>-0.02979016 -0.025057765 -0.41759005 0.4805435...</td>\n    </tr>\n    <tr>\n      <th>4</th>\n      <td>4</td>\n      <td>aio/aio-builds-setup/dockerbuild/scripts-js/li...</td>\n      <td>2f791ce68bbd7cd501cd3dfd95448e456d000515</td>\n      <td>0.023059685 0.0022186898 -0.40449363 0.4058592...</td>\n      <td>0.023059685 0.0022186898 -0.40449363 0.4058592...</td>\n    </tr>\n  </tbody>\n</table>\n</div>"
     },
     "execution_count": 4,
     "metadata": {},
     "output_type": "execute_result"
    }
   ],
   "source": [
    "data_vectors = pd.read_csv('../../data/train/vectors.csv')\n",
    "data_vectors = data_vectors.fillna(0)\n",
    "data_vectors.head(5)"
   ],
   "metadata": {
    "collapsed": false,
    "pycharm": {
     "name": "#%%\n"
    }
   }
  },
  {
   "cell_type": "code",
   "execution_count": 5,
   "outputs": [
    {
     "data": {
      "text/plain": "                                                name  \\\n0  aio/aio-builds-setup/dockerbuild/scripts-js/li...   \n1  aio/aio-builds-setup/dockerbuild/scripts-js/li...   \n2  aio/aio-builds-setup/dockerbuild/scripts-js/li...   \n3  aio/aio-builds-setup/dockerbuild/scripts-js/li...   \n4  aio/aio-builds-setup/dockerbuild/scripts-js/li...   \n\n                                  commit_id  \\\n0  021f4344b117f20530fa1de2a80a6384ce3e15d8   \n1  060d02eb82814abb1c2755b823e41f8b24e9d576   \n2  115164033b9ec34f4b9437615816a04fd2922e08   \n3  18c4976f3b88dd82b3aa47e0b9ee6058cfd19ac2   \n4  2f791ce68bbd7cd501cd3dfd95448e456d000515   \n\n                                        vector_after  \\\n0  0.023059685 0.0022186898 -0.40449363 0.4058592...   \n1  -0.03071572 -0.032911204 -0.43068093 0.4874790...   \n2                                                  0   \n3  -0.02979016 -0.025057765 -0.41759005 0.4805435...   \n4  0.023059685 0.0022186898 -0.40449363 0.4058592...   \n\n                                       vector_before  \n0  0.024417812 0.0028294062 -0.40407944 0.4051643...  \n1  -0.03071572 -0.032911204 -0.43068093 0.4874790...  \n2  -0.03071572 -0.032911204 -0.43068093 0.4874790...  \n3  -0.02979016 -0.025057765 -0.41759005 0.4805435...  \n4  0.023059685 0.0022186898 -0.40449363 0.4058592...  ",
      "text/html": "<div>\n<style scoped>\n    .dataframe tbody tr th:only-of-type {\n        vertical-align: middle;\n    }\n\n    .dataframe tbody tr th {\n        vertical-align: top;\n    }\n\n    .dataframe thead th {\n        text-align: right;\n    }\n</style>\n<table border=\"1\" class=\"dataframe\">\n  <thead>\n    <tr style=\"text-align: right;\">\n      <th></th>\n      <th>name</th>\n      <th>commit_id</th>\n      <th>vector_after</th>\n      <th>vector_before</th>\n    </tr>\n  </thead>\n  <tbody>\n    <tr>\n      <th>0</th>\n      <td>aio/aio-builds-setup/dockerbuild/scripts-js/li...</td>\n      <td>021f4344b117f20530fa1de2a80a6384ce3e15d8</td>\n      <td>0.023059685 0.0022186898 -0.40449363 0.4058592...</td>\n      <td>0.024417812 0.0028294062 -0.40407944 0.4051643...</td>\n    </tr>\n    <tr>\n      <th>1</th>\n      <td>aio/aio-builds-setup/dockerbuild/scripts-js/li...</td>\n      <td>060d02eb82814abb1c2755b823e41f8b24e9d576</td>\n      <td>-0.03071572 -0.032911204 -0.43068093 0.4874790...</td>\n      <td>-0.03071572 -0.032911204 -0.43068093 0.4874790...</td>\n    </tr>\n    <tr>\n      <th>2</th>\n      <td>aio/aio-builds-setup/dockerbuild/scripts-js/li...</td>\n      <td>115164033b9ec34f4b9437615816a04fd2922e08</td>\n      <td>0</td>\n      <td>-0.03071572 -0.032911204 -0.43068093 0.4874790...</td>\n    </tr>\n    <tr>\n      <th>3</th>\n      <td>aio/aio-builds-setup/dockerbuild/scripts-js/li...</td>\n      <td>18c4976f3b88dd82b3aa47e0b9ee6058cfd19ac2</td>\n      <td>-0.02979016 -0.025057765 -0.41759005 0.4805435...</td>\n      <td>-0.02979016 -0.025057765 -0.41759005 0.4805435...</td>\n    </tr>\n    <tr>\n      <th>4</th>\n      <td>aio/aio-builds-setup/dockerbuild/scripts-js/li...</td>\n      <td>2f791ce68bbd7cd501cd3dfd95448e456d000515</td>\n      <td>0.023059685 0.0022186898 -0.40449363 0.4058592...</td>\n      <td>0.023059685 0.0022186898 -0.40449363 0.4058592...</td>\n    </tr>\n  </tbody>\n</table>\n</div>"
     },
     "execution_count": 5,
     "metadata": {},
     "output_type": "execute_result"
    }
   ],
   "source": [
    "data_vectors = data_vectors.drop('Unnamed: 0', 1)\n",
    "data_vectors.head(5)"
   ],
   "metadata": {
    "collapsed": false,
    "pycharm": {
     "name": "#%%\n"
    }
   }
  },
  {
   "cell_type": "code",
   "execution_count": null,
   "outputs": [],
   "source": [
    "# data_vectors['vector_file_before'] = np.where(data_vectors.type == 'before', data_vectors.vector, ' ')\n",
    "# data_vectors['vector_file_after'] = np.where(data_vectors.type == 'after', data_vectors.vector, ' ')\n",
    "#\n",
    "# data_vectors.head(5)"
   ],
   "metadata": {
    "collapsed": false,
    "pycharm": {
     "name": "#%%\n"
    }
   }
  },
  {
   "cell_type": "code",
   "execution_count": 6,
   "outputs": [
    {
     "data": {
      "text/plain": "                                           file_name  \\\n0  aio/aio-builds-setup/dockerbuild/scripts-js/li...   \n1  aio/aio-builds-setup/dockerbuild/scripts-js/li...   \n2  aio/aio-builds-setup/dockerbuild/scripts-js/li...   \n3  aio/aio-builds-setup/dockerbuild/scripts-js/li...   \n4  aio/aio-builds-setup/dockerbuild/scripts-js/li...   \n\n                                  commit_id  \\\n0  021f4344b117f20530fa1de2a80a6384ce3e15d8   \n1  060d02eb82814abb1c2755b823e41f8b24e9d576   \n2  115164033b9ec34f4b9437615816a04fd2922e08   \n3  18c4976f3b88dd82b3aa47e0b9ee6058cfd19ac2   \n4  2f791ce68bbd7cd501cd3dfd95448e456d000515   \n\n                                        vector_after  \\\n0  0.023059685 0.0022186898 -0.40449363 0.4058592...   \n1  -0.03071572 -0.032911204 -0.43068093 0.4874790...   \n2                                                  0   \n3  -0.02979016 -0.025057765 -0.41759005 0.4805435...   \n4  0.023059685 0.0022186898 -0.40449363 0.4058592...   \n\n                                       vector_before  \n0  0.024417812 0.0028294062 -0.40407944 0.4051643...  \n1  -0.03071572 -0.032911204 -0.43068093 0.4874790...  \n2  -0.03071572 -0.032911204 -0.43068093 0.4874790...  \n3  -0.02979016 -0.025057765 -0.41759005 0.4805435...  \n4  0.023059685 0.0022186898 -0.40449363 0.4058592...  ",
      "text/html": "<div>\n<style scoped>\n    .dataframe tbody tr th:only-of-type {\n        vertical-align: middle;\n    }\n\n    .dataframe tbody tr th {\n        vertical-align: top;\n    }\n\n    .dataframe thead th {\n        text-align: right;\n    }\n</style>\n<table border=\"1\" class=\"dataframe\">\n  <thead>\n    <tr style=\"text-align: right;\">\n      <th></th>\n      <th>file_name</th>\n      <th>commit_id</th>\n      <th>vector_after</th>\n      <th>vector_before</th>\n    </tr>\n  </thead>\n  <tbody>\n    <tr>\n      <th>0</th>\n      <td>aio/aio-builds-setup/dockerbuild/scripts-js/li...</td>\n      <td>021f4344b117f20530fa1de2a80a6384ce3e15d8</td>\n      <td>0.023059685 0.0022186898 -0.40449363 0.4058592...</td>\n      <td>0.024417812 0.0028294062 -0.40407944 0.4051643...</td>\n    </tr>\n    <tr>\n      <th>1</th>\n      <td>aio/aio-builds-setup/dockerbuild/scripts-js/li...</td>\n      <td>060d02eb82814abb1c2755b823e41f8b24e9d576</td>\n      <td>-0.03071572 -0.032911204 -0.43068093 0.4874790...</td>\n      <td>-0.03071572 -0.032911204 -0.43068093 0.4874790...</td>\n    </tr>\n    <tr>\n      <th>2</th>\n      <td>aio/aio-builds-setup/dockerbuild/scripts-js/li...</td>\n      <td>115164033b9ec34f4b9437615816a04fd2922e08</td>\n      <td>0</td>\n      <td>-0.03071572 -0.032911204 -0.43068093 0.4874790...</td>\n    </tr>\n    <tr>\n      <th>3</th>\n      <td>aio/aio-builds-setup/dockerbuild/scripts-js/li...</td>\n      <td>18c4976f3b88dd82b3aa47e0b9ee6058cfd19ac2</td>\n      <td>-0.02979016 -0.025057765 -0.41759005 0.4805435...</td>\n      <td>-0.02979016 -0.025057765 -0.41759005 0.4805435...</td>\n    </tr>\n    <tr>\n      <th>4</th>\n      <td>aio/aio-builds-setup/dockerbuild/scripts-js/li...</td>\n      <td>2f791ce68bbd7cd501cd3dfd95448e456d000515</td>\n      <td>0.023059685 0.0022186898 -0.40449363 0.4058592...</td>\n      <td>0.023059685 0.0022186898 -0.40449363 0.4058592...</td>\n    </tr>\n  </tbody>\n</table>\n</div>"
     },
     "execution_count": 6,
     "metadata": {},
     "output_type": "execute_result"
    }
   ],
   "source": [
    "data_vectors = data_vectors.rename(columns={'name': 'file_name'})\n",
    "data_vectors.head(5)"
   ],
   "metadata": {
    "collapsed": false,
    "pycharm": {
     "name": "#%%\n"
    }
   }
  },
  {
   "cell_type": "code",
   "execution_count": 7,
   "outputs": [
    {
     "data": {
      "text/plain": "                                           file_name  file_type  \\\n0  aio/content/examples/built-in-directives/src/a...          1   \n1  aio/content/examples/architecture/e2e/src/app....          1   \n2  aio/content/examples/architecture/src/app/back...          1   \n3  aio/content/examples/architecture/src/app/sale...          1   \n4  aio/content/examples/binding-syntax/src/app/ap...          1   \n\n   file_diff_type  is_added  is_deleted  is_modified  is_renamed  \\\n0               2         0           0            1           0   \n1               2         0           0            1           0   \n2               2         0           0            1           0   \n3               2         0           0            1           0   \n4               2         0           0            1           0   \n\n                                           file_diff  \\\n0   +     !(this.nullCustomer = null) ? (this.nul...   \n1   -     const h2 = element.all(by.css('h2')).ma...   \n2   -     const err = new Error('Cannot get objec...   \n3   -     const amount = (typeof value === 'strin...   \n4   -     const testButton = document.getElementB...   \n\n                                         file_before  \\\n0  import { Component, OnInit } from '@angular/co...   \n1  import { protractor, browser, element, by, Ele...   \n2  import { Injectable, Type } from '@angular/cor...   \n3  import { Injectable } from '@angular/core';\\n\\...   \n4  import { Component, ViewChild, ElementRef } fr...   \n\n                                          file_after  \\\n0  import { Component, OnInit } from '@angular/co...   \n1  import { protractor, browser, element, by, Ele...   \n2  import { Injectable, Type } from '@angular/cor...   \n3  import { Injectable } from '@angular/core';\\n\\...   \n4  import { Component, ViewChild, ElementRef } fr...   \n\n                                  commit_id  commit_type  \\\n0  9c5fc1693a07e7411e68b3c0583a05d54f22c78b            3   \n1  01db37435ff733dea571370688e62373a053ba74            3   \n2  01db37435ff733dea571370688e62373a053ba74            3   \n3  01db37435ff733dea571370688e62373a053ba74            3   \n4  01db37435ff733dea571370688e62373a053ba74            3   \n\n                                        vector_after  \\\n0  0.23563519 -0.15625627 0.03737405 0.41048622 0...   \n1  0.30808026 -0.15802056 0.063062616 0.3237727 0...   \n2  0.12170838 -0.2235764 0.13226472 0.18490943 0....   \n3  -0.41465417 -0.24975275 -0.1860255 0.20304391 ...   \n4  -0.1849036 -0.026450332 -0.27863508 0.07894189...   \n\n                                       vector_before  \n0  0.23563519 -0.15625627 0.03737405 0.41048622 0...  \n1  0.30808026 -0.15802056 0.063062616 0.3237727 0...  \n2  0.12170838 -0.2235764 0.13226472 0.18490943 0....  \n3  -0.41465417 -0.24975275 -0.1860255 0.20304391 ...  \n4  -0.1849036 -0.026450332 -0.27863508 0.07894189...  ",
      "text/html": "<div>\n<style scoped>\n    .dataframe tbody tr th:only-of-type {\n        vertical-align: middle;\n    }\n\n    .dataframe tbody tr th {\n        vertical-align: top;\n    }\n\n    .dataframe thead th {\n        text-align: right;\n    }\n</style>\n<table border=\"1\" class=\"dataframe\">\n  <thead>\n    <tr style=\"text-align: right;\">\n      <th></th>\n      <th>file_name</th>\n      <th>file_type</th>\n      <th>file_diff_type</th>\n      <th>is_added</th>\n      <th>is_deleted</th>\n      <th>is_modified</th>\n      <th>is_renamed</th>\n      <th>file_diff</th>\n      <th>file_before</th>\n      <th>file_after</th>\n      <th>commit_id</th>\n      <th>commit_type</th>\n      <th>vector_after</th>\n      <th>vector_before</th>\n    </tr>\n  </thead>\n  <tbody>\n    <tr>\n      <th>0</th>\n      <td>aio/content/examples/built-in-directives/src/a...</td>\n      <td>1</td>\n      <td>2</td>\n      <td>0</td>\n      <td>0</td>\n      <td>1</td>\n      <td>0</td>\n      <td>+     !(this.nullCustomer = null) ? (this.nul...</td>\n      <td>import { Component, OnInit } from '@angular/co...</td>\n      <td>import { Component, OnInit } from '@angular/co...</td>\n      <td>9c5fc1693a07e7411e68b3c0583a05d54f22c78b</td>\n      <td>3</td>\n      <td>0.23563519 -0.15625627 0.03737405 0.41048622 0...</td>\n      <td>0.23563519 -0.15625627 0.03737405 0.41048622 0...</td>\n    </tr>\n    <tr>\n      <th>1</th>\n      <td>aio/content/examples/architecture/e2e/src/app....</td>\n      <td>1</td>\n      <td>2</td>\n      <td>0</td>\n      <td>0</td>\n      <td>1</td>\n      <td>0</td>\n      <td>-     const h2 = element.all(by.css('h2')).ma...</td>\n      <td>import { protractor, browser, element, by, Ele...</td>\n      <td>import { protractor, browser, element, by, Ele...</td>\n      <td>01db37435ff733dea571370688e62373a053ba74</td>\n      <td>3</td>\n      <td>0.30808026 -0.15802056 0.063062616 0.3237727 0...</td>\n      <td>0.30808026 -0.15802056 0.063062616 0.3237727 0...</td>\n    </tr>\n    <tr>\n      <th>2</th>\n      <td>aio/content/examples/architecture/src/app/back...</td>\n      <td>1</td>\n      <td>2</td>\n      <td>0</td>\n      <td>0</td>\n      <td>1</td>\n      <td>0</td>\n      <td>-     const err = new Error('Cannot get objec...</td>\n      <td>import { Injectable, Type } from '@angular/cor...</td>\n      <td>import { Injectable, Type } from '@angular/cor...</td>\n      <td>01db37435ff733dea571370688e62373a053ba74</td>\n      <td>3</td>\n      <td>0.12170838 -0.2235764 0.13226472 0.18490943 0....</td>\n      <td>0.12170838 -0.2235764 0.13226472 0.18490943 0....</td>\n    </tr>\n    <tr>\n      <th>3</th>\n      <td>aio/content/examples/architecture/src/app/sale...</td>\n      <td>1</td>\n      <td>2</td>\n      <td>0</td>\n      <td>0</td>\n      <td>1</td>\n      <td>0</td>\n      <td>-     const amount = (typeof value === 'strin...</td>\n      <td>import { Injectable } from '@angular/core';\\n\\...</td>\n      <td>import { Injectable } from '@angular/core';\\n\\...</td>\n      <td>01db37435ff733dea571370688e62373a053ba74</td>\n      <td>3</td>\n      <td>-0.41465417 -0.24975275 -0.1860255 0.20304391 ...</td>\n      <td>-0.41465417 -0.24975275 -0.1860255 0.20304391 ...</td>\n    </tr>\n    <tr>\n      <th>4</th>\n      <td>aio/content/examples/binding-syntax/src/app/ap...</td>\n      <td>1</td>\n      <td>2</td>\n      <td>0</td>\n      <td>0</td>\n      <td>1</td>\n      <td>0</td>\n      <td>-     const testButton = document.getElementB...</td>\n      <td>import { Component, ViewChild, ElementRef } fr...</td>\n      <td>import { Component, ViewChild, ElementRef } fr...</td>\n      <td>01db37435ff733dea571370688e62373a053ba74</td>\n      <td>3</td>\n      <td>-0.1849036 -0.026450332 -0.27863508 0.07894189...</td>\n      <td>-0.1849036 -0.026450332 -0.27863508 0.07894189...</td>\n    </tr>\n  </tbody>\n</table>\n</div>"
     },
     "execution_count": 7,
     "metadata": {},
     "output_type": "execute_result"
    }
   ],
   "source": [
    "merged = pd.merge(left=dataset, right=data_vectors, on=['file_name', 'commit_id'], how='inner')\n",
    "merged.head(5)"
   ],
   "metadata": {
    "collapsed": false,
    "pycharm": {
     "name": "#%%\n"
    }
   }
  },
  {
   "cell_type": "code",
   "execution_count": 10,
   "outputs": [
    {
     "data": {
      "text/plain": "   build  ci  docs  feat  fix  refactor  style\n0      0   0     1     0    0         0      0\n1      0   0     1     0    0         0      0\n2      0   0     1     0    0         0      0\n3      0   0     1     0    0         0      0\n4      0   0     1     0    0         0      0",
      "text/html": "<div>\n<style scoped>\n    .dataframe tbody tr th:only-of-type {\n        vertical-align: middle;\n    }\n\n    .dataframe tbody tr th {\n        vertical-align: top;\n    }\n\n    .dataframe thead th {\n        text-align: right;\n    }\n</style>\n<table border=\"1\" class=\"dataframe\">\n  <thead>\n    <tr style=\"text-align: right;\">\n      <th></th>\n      <th>build</th>\n      <th>ci</th>\n      <th>docs</th>\n      <th>feat</th>\n      <th>fix</th>\n      <th>refactor</th>\n      <th>style</th>\n    </tr>\n  </thead>\n  <tbody>\n    <tr>\n      <th>0</th>\n      <td>0</td>\n      <td>0</td>\n      <td>1</td>\n      <td>0</td>\n      <td>0</td>\n      <td>0</td>\n      <td>0</td>\n    </tr>\n    <tr>\n      <th>1</th>\n      <td>0</td>\n      <td>0</td>\n      <td>1</td>\n      <td>0</td>\n      <td>0</td>\n      <td>0</td>\n      <td>0</td>\n    </tr>\n    <tr>\n      <th>2</th>\n      <td>0</td>\n      <td>0</td>\n      <td>1</td>\n      <td>0</td>\n      <td>0</td>\n      <td>0</td>\n      <td>0</td>\n    </tr>\n    <tr>\n      <th>3</th>\n      <td>0</td>\n      <td>0</td>\n      <td>1</td>\n      <td>0</td>\n      <td>0</td>\n      <td>0</td>\n      <td>0</td>\n    </tr>\n    <tr>\n      <th>4</th>\n      <td>0</td>\n      <td>0</td>\n      <td>1</td>\n      <td>0</td>\n      <td>0</td>\n      <td>0</td>\n      <td>0</td>\n    </tr>\n  </tbody>\n</table>\n</div>"
     },
     "execution_count": 10,
     "metadata": {},
     "output_type": "execute_result"
    }
   ],
   "source": [
    "one_hot = pd.get_dummies(merged['commit_type'])\n",
    "one_hot = one_hot.rename(columns={1:'build', 2:'ci', 3:'docs', 4:'feat', 5:'fix', 6:'perf', 7:'refactor', 8:'style', 9:'test'})\n",
    "one_hot.head(5)"
   ],
   "metadata": {
    "collapsed": false,
    "pycharm": {
     "name": "#%%\n"
    }
   }
  },
  {
   "cell_type": "code",
   "execution_count": 23,
   "outputs": [
    {
     "data": {
      "text/plain": "                                           file_name  file_type  \\\n0  aio/content/examples/built-in-directives/src/a...          1   \n1  aio/content/examples/architecture/e2e/src/app....          1   \n2  aio/content/examples/architecture/src/app/back...          1   \n3  aio/content/examples/architecture/src/app/sale...          1   \n4  aio/content/examples/binding-syntax/src/app/ap...          1   \n\n   file_diff_type  is_added  is_deleted  is_modified  is_renamed  \\\n0               2         0           0            1           0   \n1               2         0           0            1           0   \n2               2         0           0            1           0   \n3               2         0           0            1           0   \n4               2         0           0            1           0   \n\n                                           file_diff  \\\n0   +     !(this.nullCustomer = null) ? (this.nul...   \n1   -     const h2 = element.all(by.css('h2')).ma...   \n2   -     const err = new Error('Cannot get objec...   \n3   -     const amount = (typeof value === 'strin...   \n4   -     const testButton = document.getElementB...   \n\n                                         file_before  \\\n0  import { Component, OnInit } from '@angular/co...   \n1  import { protractor, browser, element, by, Ele...   \n2  import { Injectable, Type } from '@angular/cor...   \n3  import { Injectable } from '@angular/core';\\n\\...   \n4  import { Component, ViewChild, ElementRef } fr...   \n\n                                          file_after  ... commit_type  \\\n0  import { Component, OnInit } from '@angular/co...  ...           3   \n1  import { protractor, browser, element, by, Ele...  ...           3   \n2  import { Injectable, Type } from '@angular/cor...  ...           3   \n3  import { Injectable } from '@angular/core';\\n\\...  ...           3   \n4  import { Component, ViewChild, ElementRef } fr...  ...           3   \n\n                                        vector_after  \\\n0  ['0.23563519', '-0.15625627', '0.03737405', '0...   \n1  ['0.30808026', '-0.15802056', '0.063062616', '...   \n2  ['0.12170838', '-0.2235764', '0.13226472', '0....   \n3  ['-0.41465417', '-0.24975275', '-0.1860255', '...   \n4  ['-0.1849036', '-0.026450332', '-0.27863508', ...   \n\n                                       vector_before build  ci  docs  feat  \\\n0  ['0.23563519', '-0.15625627', '0.03737405', '0...     0   0     1     0   \n1  ['0.30808026', '-0.15802056', '0.063062616', '...     0   0     1     0   \n2  ['0.12170838', '-0.2235764', '0.13226472', '0....     0   0     1     0   \n3  ['-0.41465417', '-0.24975275', '-0.1860255', '...     0   0     1     0   \n4  ['-0.1849036', '-0.026450332', '-0.27863508', ...     0   0     1     0   \n\n   fix  refactor  style  \n0    0         0      0  \n1    0         0      0  \n2    0         0      0  \n3    0         0      0  \n4    0         0      0  \n\n[5 rows x 21 columns]",
      "text/html": "<div>\n<style scoped>\n    .dataframe tbody tr th:only-of-type {\n        vertical-align: middle;\n    }\n\n    .dataframe tbody tr th {\n        vertical-align: top;\n    }\n\n    .dataframe thead th {\n        text-align: right;\n    }\n</style>\n<table border=\"1\" class=\"dataframe\">\n  <thead>\n    <tr style=\"text-align: right;\">\n      <th></th>\n      <th>file_name</th>\n      <th>file_type</th>\n      <th>file_diff_type</th>\n      <th>is_added</th>\n      <th>is_deleted</th>\n      <th>is_modified</th>\n      <th>is_renamed</th>\n      <th>file_diff</th>\n      <th>file_before</th>\n      <th>file_after</th>\n      <th>...</th>\n      <th>commit_type</th>\n      <th>vector_after</th>\n      <th>vector_before</th>\n      <th>build</th>\n      <th>ci</th>\n      <th>docs</th>\n      <th>feat</th>\n      <th>fix</th>\n      <th>refactor</th>\n      <th>style</th>\n    </tr>\n  </thead>\n  <tbody>\n    <tr>\n      <th>0</th>\n      <td>aio/content/examples/built-in-directives/src/a...</td>\n      <td>1</td>\n      <td>2</td>\n      <td>0</td>\n      <td>0</td>\n      <td>1</td>\n      <td>0</td>\n      <td>+     !(this.nullCustomer = null) ? (this.nul...</td>\n      <td>import { Component, OnInit } from '@angular/co...</td>\n      <td>import { Component, OnInit } from '@angular/co...</td>\n      <td>...</td>\n      <td>3</td>\n      <td>['0.23563519', '-0.15625627', '0.03737405', '0...</td>\n      <td>['0.23563519', '-0.15625627', '0.03737405', '0...</td>\n      <td>0</td>\n      <td>0</td>\n      <td>1</td>\n      <td>0</td>\n      <td>0</td>\n      <td>0</td>\n      <td>0</td>\n    </tr>\n    <tr>\n      <th>1</th>\n      <td>aio/content/examples/architecture/e2e/src/app....</td>\n      <td>1</td>\n      <td>2</td>\n      <td>0</td>\n      <td>0</td>\n      <td>1</td>\n      <td>0</td>\n      <td>-     const h2 = element.all(by.css('h2')).ma...</td>\n      <td>import { protractor, browser, element, by, Ele...</td>\n      <td>import { protractor, browser, element, by, Ele...</td>\n      <td>...</td>\n      <td>3</td>\n      <td>['0.30808026', '-0.15802056', '0.063062616', '...</td>\n      <td>['0.30808026', '-0.15802056', '0.063062616', '...</td>\n      <td>0</td>\n      <td>0</td>\n      <td>1</td>\n      <td>0</td>\n      <td>0</td>\n      <td>0</td>\n      <td>0</td>\n    </tr>\n    <tr>\n      <th>2</th>\n      <td>aio/content/examples/architecture/src/app/back...</td>\n      <td>1</td>\n      <td>2</td>\n      <td>0</td>\n      <td>0</td>\n      <td>1</td>\n      <td>0</td>\n      <td>-     const err = new Error('Cannot get objec...</td>\n      <td>import { Injectable, Type } from '@angular/cor...</td>\n      <td>import { Injectable, Type } from '@angular/cor...</td>\n      <td>...</td>\n      <td>3</td>\n      <td>['0.12170838', '-0.2235764', '0.13226472', '0....</td>\n      <td>['0.12170838', '-0.2235764', '0.13226472', '0....</td>\n      <td>0</td>\n      <td>0</td>\n      <td>1</td>\n      <td>0</td>\n      <td>0</td>\n      <td>0</td>\n      <td>0</td>\n    </tr>\n    <tr>\n      <th>3</th>\n      <td>aio/content/examples/architecture/src/app/sale...</td>\n      <td>1</td>\n      <td>2</td>\n      <td>0</td>\n      <td>0</td>\n      <td>1</td>\n      <td>0</td>\n      <td>-     const amount = (typeof value === 'strin...</td>\n      <td>import { Injectable } from '@angular/core';\\n\\...</td>\n      <td>import { Injectable } from '@angular/core';\\n\\...</td>\n      <td>...</td>\n      <td>3</td>\n      <td>['-0.41465417', '-0.24975275', '-0.1860255', '...</td>\n      <td>['-0.41465417', '-0.24975275', '-0.1860255', '...</td>\n      <td>0</td>\n      <td>0</td>\n      <td>1</td>\n      <td>0</td>\n      <td>0</td>\n      <td>0</td>\n      <td>0</td>\n    </tr>\n    <tr>\n      <th>4</th>\n      <td>aio/content/examples/binding-syntax/src/app/ap...</td>\n      <td>1</td>\n      <td>2</td>\n      <td>0</td>\n      <td>0</td>\n      <td>1</td>\n      <td>0</td>\n      <td>-     const testButton = document.getElementB...</td>\n      <td>import { Component, ViewChild, ElementRef } fr...</td>\n      <td>import { Component, ViewChild, ElementRef } fr...</td>\n      <td>...</td>\n      <td>3</td>\n      <td>['-0.1849036', '-0.026450332', '-0.27863508', ...</td>\n      <td>['-0.1849036', '-0.026450332', '-0.27863508', ...</td>\n      <td>0</td>\n      <td>0</td>\n      <td>1</td>\n      <td>0</td>\n      <td>0</td>\n      <td>0</td>\n      <td>0</td>\n    </tr>\n  </tbody>\n</table>\n<p>5 rows × 21 columns</p>\n</div>"
     },
     "execution_count": 23,
     "metadata": {},
     "output_type": "execute_result"
    }
   ],
   "source": [
    "merged = merged.join(one_hot)\n",
    "merged.head(5)"
   ],
   "metadata": {
    "collapsed": false,
    "pycharm": {
     "name": "#%%\n"
    }
   }
  },
  {
   "cell_type": "code",
   "execution_count": 17,
   "outputs": [
    {
     "data": {
      "text/plain": "                                           file_name  file_type  \\\n0  aio/content/examples/built-in-directives/src/a...          1   \n1  aio/content/examples/architecture/e2e/src/app....          1   \n2  aio/content/examples/architecture/src/app/back...          1   \n3  aio/content/examples/architecture/src/app/sale...          1   \n4  aio/content/examples/binding-syntax/src/app/ap...          1   \n\n   file_diff_type  is_added  is_deleted  is_modified  is_renamed  \\\n0               2         0           0            1           0   \n1               2         0           0            1           0   \n2               2         0           0            1           0   \n3               2         0           0            1           0   \n4               2         0           0            1           0   \n\n                                           file_diff  \\\n0   +     !(this.nullCustomer = null) ? (this.nul...   \n1   -     const h2 = element.all(by.css('h2')).ma...   \n2   -     const err = new Error('Cannot get objec...   \n3   -     const amount = (typeof value === 'strin...   \n4   -     const testButton = document.getElementB...   \n\n                                         file_before  \\\n0  import { Component, OnInit } from '@angular/co...   \n1  import { protractor, browser, element, by, Ele...   \n2  import { Injectable, Type } from '@angular/cor...   \n3  import { Injectable } from '@angular/core';\\n\\...   \n4  import { Component, ViewChild, ElementRef } fr...   \n\n                                          file_after  ... commit_type  \\\n0  import { Component, OnInit } from '@angular/co...  ...           3   \n1  import { protractor, browser, element, by, Ele...  ...           3   \n2  import { Injectable, Type } from '@angular/cor...  ...           3   \n3  import { Injectable } from '@angular/core';\\n\\...  ...           3   \n4  import { Component, ViewChild, ElementRef } fr...  ...           3   \n\n                                        vector_after  \\\n0  ['0.23563519', '-0.15625627', '0.03737405', '0...   \n1  ['0.30808026', '-0.15802056', '0.063062616', '...   \n2  ['0.12170838', '-0.2235764', '0.13226472', '0....   \n3  ['-0.41465417', '-0.24975275', '-0.1860255', '...   \n4  ['-0.1849036', '-0.026450332', '-0.27863508', ...   \n\n                                       vector_before build  ci  docs  feat  \\\n0  ['0.23563519', '-0.15625627', '0.03737405', '0...     0   0     1     0   \n1  ['0.30808026', '-0.15802056', '0.063062616', '...     0   0     1     0   \n2  ['0.12170838', '-0.2235764', '0.13226472', '0....     0   0     1     0   \n3  ['-0.41465417', '-0.24975275', '-0.1860255', '...     0   0     1     0   \n4  ['-0.1849036', '-0.026450332', '-0.27863508', ...     0   0     1     0   \n\n   fix  refactor  style  \n0    0         0      0  \n1    0         0      0  \n2    0         0      0  \n3    0         0      0  \n4    0         0      0  \n\n[5 rows x 21 columns]",
      "text/html": "<div>\n<style scoped>\n    .dataframe tbody tr th:only-of-type {\n        vertical-align: middle;\n    }\n\n    .dataframe tbody tr th {\n        vertical-align: top;\n    }\n\n    .dataframe thead th {\n        text-align: right;\n    }\n</style>\n<table border=\"1\" class=\"dataframe\">\n  <thead>\n    <tr style=\"text-align: right;\">\n      <th></th>\n      <th>file_name</th>\n      <th>file_type</th>\n      <th>file_diff_type</th>\n      <th>is_added</th>\n      <th>is_deleted</th>\n      <th>is_modified</th>\n      <th>is_renamed</th>\n      <th>file_diff</th>\n      <th>file_before</th>\n      <th>file_after</th>\n      <th>...</th>\n      <th>commit_type</th>\n      <th>vector_after</th>\n      <th>vector_before</th>\n      <th>build</th>\n      <th>ci</th>\n      <th>docs</th>\n      <th>feat</th>\n      <th>fix</th>\n      <th>refactor</th>\n      <th>style</th>\n    </tr>\n  </thead>\n  <tbody>\n    <tr>\n      <th>0</th>\n      <td>aio/content/examples/built-in-directives/src/a...</td>\n      <td>1</td>\n      <td>2</td>\n      <td>0</td>\n      <td>0</td>\n      <td>1</td>\n      <td>0</td>\n      <td>+     !(this.nullCustomer = null) ? (this.nul...</td>\n      <td>import { Component, OnInit } from '@angular/co...</td>\n      <td>import { Component, OnInit } from '@angular/co...</td>\n      <td>...</td>\n      <td>3</td>\n      <td>['0.23563519', '-0.15625627', '0.03737405', '0...</td>\n      <td>['0.23563519', '-0.15625627', '0.03737405', '0...</td>\n      <td>0</td>\n      <td>0</td>\n      <td>1</td>\n      <td>0</td>\n      <td>0</td>\n      <td>0</td>\n      <td>0</td>\n    </tr>\n    <tr>\n      <th>1</th>\n      <td>aio/content/examples/architecture/e2e/src/app....</td>\n      <td>1</td>\n      <td>2</td>\n      <td>0</td>\n      <td>0</td>\n      <td>1</td>\n      <td>0</td>\n      <td>-     const h2 = element.all(by.css('h2')).ma...</td>\n      <td>import { protractor, browser, element, by, Ele...</td>\n      <td>import { protractor, browser, element, by, Ele...</td>\n      <td>...</td>\n      <td>3</td>\n      <td>['0.30808026', '-0.15802056', '0.063062616', '...</td>\n      <td>['0.30808026', '-0.15802056', '0.063062616', '...</td>\n      <td>0</td>\n      <td>0</td>\n      <td>1</td>\n      <td>0</td>\n      <td>0</td>\n      <td>0</td>\n      <td>0</td>\n    </tr>\n    <tr>\n      <th>2</th>\n      <td>aio/content/examples/architecture/src/app/back...</td>\n      <td>1</td>\n      <td>2</td>\n      <td>0</td>\n      <td>0</td>\n      <td>1</td>\n      <td>0</td>\n      <td>-     const err = new Error('Cannot get objec...</td>\n      <td>import { Injectable, Type } from '@angular/cor...</td>\n      <td>import { Injectable, Type } from '@angular/cor...</td>\n      <td>...</td>\n      <td>3</td>\n      <td>['0.12170838', '-0.2235764', '0.13226472', '0....</td>\n      <td>['0.12170838', '-0.2235764', '0.13226472', '0....</td>\n      <td>0</td>\n      <td>0</td>\n      <td>1</td>\n      <td>0</td>\n      <td>0</td>\n      <td>0</td>\n      <td>0</td>\n    </tr>\n    <tr>\n      <th>3</th>\n      <td>aio/content/examples/architecture/src/app/sale...</td>\n      <td>1</td>\n      <td>2</td>\n      <td>0</td>\n      <td>0</td>\n      <td>1</td>\n      <td>0</td>\n      <td>-     const amount = (typeof value === 'strin...</td>\n      <td>import { Injectable } from '@angular/core';\\n\\...</td>\n      <td>import { Injectable } from '@angular/core';\\n\\...</td>\n      <td>...</td>\n      <td>3</td>\n      <td>['-0.41465417', '-0.24975275', '-0.1860255', '...</td>\n      <td>['-0.41465417', '-0.24975275', '-0.1860255', '...</td>\n      <td>0</td>\n      <td>0</td>\n      <td>1</td>\n      <td>0</td>\n      <td>0</td>\n      <td>0</td>\n      <td>0</td>\n    </tr>\n    <tr>\n      <th>4</th>\n      <td>aio/content/examples/binding-syntax/src/app/ap...</td>\n      <td>1</td>\n      <td>2</td>\n      <td>0</td>\n      <td>0</td>\n      <td>1</td>\n      <td>0</td>\n      <td>-     const testButton = document.getElementB...</td>\n      <td>import { Component, ViewChild, ElementRef } fr...</td>\n      <td>import { Component, ViewChild, ElementRef } fr...</td>\n      <td>...</td>\n      <td>3</td>\n      <td>['-0.1849036', '-0.026450332', '-0.27863508', ...</td>\n      <td>['-0.1849036', '-0.026450332', '-0.27863508', ...</td>\n      <td>0</td>\n      <td>0</td>\n      <td>1</td>\n      <td>0</td>\n      <td>0</td>\n      <td>0</td>\n      <td>0</td>\n    </tr>\n  </tbody>\n</table>\n<p>5 rows × 21 columns</p>\n</div>"
     },
     "execution_count": 17,
     "metadata": {},
     "output_type": "execute_result"
    }
   ],
   "source": [
    "merged.head(5)"
   ],
   "metadata": {
    "collapsed": false,
    "pycharm": {
     "name": "#%%\n"
    }
   }
  },
  {
   "cell_type": "code",
   "execution_count": 8,
   "outputs": [
    {
     "data": {
      "text/plain": "             commit_id\ncommit_type           \n1                  113\n2                   90\n3                  310\n4                   55\n5                   13\n7                   13\n8                    1",
      "text/html": "<div>\n<style scoped>\n    .dataframe tbody tr th:only-of-type {\n        vertical-align: middle;\n    }\n\n    .dataframe tbody tr th {\n        vertical-align: top;\n    }\n\n    .dataframe thead th {\n        text-align: right;\n    }\n</style>\n<table border=\"1\" class=\"dataframe\">\n  <thead>\n    <tr style=\"text-align: right;\">\n      <th></th>\n      <th>commit_id</th>\n    </tr>\n    <tr>\n      <th>commit_type</th>\n      <th></th>\n    </tr>\n  </thead>\n  <tbody>\n    <tr>\n      <th>1</th>\n      <td>113</td>\n    </tr>\n    <tr>\n      <th>2</th>\n      <td>90</td>\n    </tr>\n    <tr>\n      <th>3</th>\n      <td>310</td>\n    </tr>\n    <tr>\n      <th>4</th>\n      <td>55</td>\n    </tr>\n    <tr>\n      <th>5</th>\n      <td>13</td>\n    </tr>\n    <tr>\n      <th>7</th>\n      <td>13</td>\n    </tr>\n    <tr>\n      <th>8</th>\n      <td>1</td>\n    </tr>\n  </tbody>\n</table>\n</div>"
     },
     "execution_count": 8,
     "metadata": {},
     "output_type": "execute_result"
    }
   ],
   "source": [
    "merged.groupby('commit_type').aggregate({'commit_id':'count'})"
   ],
   "metadata": {
    "collapsed": false,
    "pycharm": {
     "name": "#%%\n"
    }
   }
  },
  {
   "cell_type": "code",
   "execution_count": 9,
   "outputs": [],
   "source": [
    "merged.to_csv('../../data/angular/train/dataset_vec.csv')"
   ],
   "metadata": {
    "collapsed": false,
    "pycharm": {
     "name": "#%%\n"
    }
   }
  },
  {
   "cell_type": "code",
   "execution_count": 36,
   "outputs": [
    {
     "data": {
      "text/plain": "                                           file_name  file_type  \\\n0  aio/aio-builds-setup/dockerbuild/scripts-js/li...          1   \n1  aio/aio-builds-setup/dockerbuild/scripts-js/li...          1   \n2  aio/aio-builds-setup/dockerbuild/scripts-js/li...          1   \n3  aio/aio-builds-setup/dockerbuild/scripts-js/li...          1   \n4  aio/aio-builds-setup/dockerbuild/scripts-js/li...          1   \n\n   file_diff_type  is_added  is_deleted  is_modified  is_renamed  \\\n0               2         0           0            1           0   \n1               2         0           0            1           0   \n2               2         0           0            1           0   \n3               2         0           0            1           0   \n4               2         0           0            1           0   \n\n                                           file_diff  \\\n0   -     toRemove.forEach(filePath => shell.rm(p...   \n1   -     toRemove.forEach(filePath => shell.rm(p...   \n2   - import {assertNotMissingOrEmpty, createLogg...   \n3   - import {assertNotMissingOrEmpty, createLogg...   \n4   - import {HIDDEN_DIR_PREFIX} from '../common/...   \n\n                                         file_before  \\\n0  // Imports\\nimport * as fs from 'fs';\\nimport ...   \n1  // Imports\\nimport * as fs from 'fs';\\nimport ...   \n2  // Imports\\nimport * as fs from 'fs';\\nimport ...   \n3  // Imports\\nimport * as fs from 'fs';\\nimport ...   \n4  // Imports\\nimport * as fs from 'fs';\\nimport ...   \n\n                                          file_after  \\\n0  // Imports\\nimport * as fs from 'fs';\\nimport ...   \n1  // Imports\\nimport * as fs from 'fs';\\nimport ...   \n2  // Imports\\nimport * as fs from 'fs';\\nimport ...   \n3  // Imports\\nimport * as fs from 'fs';\\nimport ...   \n4  // Imports\\nimport * as fs from 'fs';\\nimport ...   \n\n                                  commit_id  commit_type  \\\n0  021f4344b117f20530fa1de2a80a6384ce3e15d8            2   \n1  021f4344b117f20530fa1de2a80a6384ce3e15d8            2   \n2  36c4c8daa945132ede8e2a2c46864ceffd7d94dc            2   \n3  36c4c8daa945132ede8e2a2c46864ceffd7d94dc            2   \n4  3c4eef99beeb5bed8727346056422d161eda0f7b            5   \n\n                                  vector_file_before  \\\n0                                                      \n1  ['0.28467026', '0.16755119', '-0.1549635', '-0...   \n2                                                      \n3  ['0.28467026', '0.16755119', '-0.1549635', '-0...   \n4                                                      \n\n                                   vector_file_after  \n0  ['0.28467026', '0.16755119', '-0.1549635', '-0...  \n1                                                     \n2  ['0.28467026', '0.16755119', '-0.1549635', '-0...  \n3                                                     \n4  ['-0.04346119', '0.013179759', '0.016705208', ...  ",
      "text/html": "<div>\n<style scoped>\n    .dataframe tbody tr th:only-of-type {\n        vertical-align: middle;\n    }\n\n    .dataframe tbody tr th {\n        vertical-align: top;\n    }\n\n    .dataframe thead th {\n        text-align: right;\n    }\n</style>\n<table border=\"1\" class=\"dataframe\">\n  <thead>\n    <tr style=\"text-align: right;\">\n      <th></th>\n      <th>file_name</th>\n      <th>file_type</th>\n      <th>file_diff_type</th>\n      <th>is_added</th>\n      <th>is_deleted</th>\n      <th>is_modified</th>\n      <th>is_renamed</th>\n      <th>file_diff</th>\n      <th>file_before</th>\n      <th>file_after</th>\n      <th>commit_id</th>\n      <th>commit_type</th>\n      <th>vector_file_before</th>\n      <th>vector_file_after</th>\n    </tr>\n  </thead>\n  <tbody>\n    <tr>\n      <th>0</th>\n      <td>aio/aio-builds-setup/dockerbuild/scripts-js/li...</td>\n      <td>1</td>\n      <td>2</td>\n      <td>0</td>\n      <td>0</td>\n      <td>1</td>\n      <td>0</td>\n      <td>-     toRemove.forEach(filePath =&gt; shell.rm(p...</td>\n      <td>// Imports\\nimport * as fs from 'fs';\\nimport ...</td>\n      <td>// Imports\\nimport * as fs from 'fs';\\nimport ...</td>\n      <td>021f4344b117f20530fa1de2a80a6384ce3e15d8</td>\n      <td>2</td>\n      <td></td>\n      <td>['0.28467026', '0.16755119', '-0.1549635', '-0...</td>\n    </tr>\n    <tr>\n      <th>1</th>\n      <td>aio/aio-builds-setup/dockerbuild/scripts-js/li...</td>\n      <td>1</td>\n      <td>2</td>\n      <td>0</td>\n      <td>0</td>\n      <td>1</td>\n      <td>0</td>\n      <td>-     toRemove.forEach(filePath =&gt; shell.rm(p...</td>\n      <td>// Imports\\nimport * as fs from 'fs';\\nimport ...</td>\n      <td>// Imports\\nimport * as fs from 'fs';\\nimport ...</td>\n      <td>021f4344b117f20530fa1de2a80a6384ce3e15d8</td>\n      <td>2</td>\n      <td>['0.28467026', '0.16755119', '-0.1549635', '-0...</td>\n      <td></td>\n    </tr>\n    <tr>\n      <th>2</th>\n      <td>aio/aio-builds-setup/dockerbuild/scripts-js/li...</td>\n      <td>1</td>\n      <td>2</td>\n      <td>0</td>\n      <td>0</td>\n      <td>1</td>\n      <td>0</td>\n      <td>- import {assertNotMissingOrEmpty, createLogg...</td>\n      <td>// Imports\\nimport * as fs from 'fs';\\nimport ...</td>\n      <td>// Imports\\nimport * as fs from 'fs';\\nimport ...</td>\n      <td>36c4c8daa945132ede8e2a2c46864ceffd7d94dc</td>\n      <td>2</td>\n      <td></td>\n      <td>['0.28467026', '0.16755119', '-0.1549635', '-0...</td>\n    </tr>\n    <tr>\n      <th>3</th>\n      <td>aio/aio-builds-setup/dockerbuild/scripts-js/li...</td>\n      <td>1</td>\n      <td>2</td>\n      <td>0</td>\n      <td>0</td>\n      <td>1</td>\n      <td>0</td>\n      <td>- import {assertNotMissingOrEmpty, createLogg...</td>\n      <td>// Imports\\nimport * as fs from 'fs';\\nimport ...</td>\n      <td>// Imports\\nimport * as fs from 'fs';\\nimport ...</td>\n      <td>36c4c8daa945132ede8e2a2c46864ceffd7d94dc</td>\n      <td>2</td>\n      <td>['0.28467026', '0.16755119', '-0.1549635', '-0...</td>\n      <td></td>\n    </tr>\n    <tr>\n      <th>4</th>\n      <td>aio/aio-builds-setup/dockerbuild/scripts-js/li...</td>\n      <td>1</td>\n      <td>2</td>\n      <td>0</td>\n      <td>0</td>\n      <td>1</td>\n      <td>0</td>\n      <td>- import {HIDDEN_DIR_PREFIX} from '../common/...</td>\n      <td>// Imports\\nimport * as fs from 'fs';\\nimport ...</td>\n      <td>// Imports\\nimport * as fs from 'fs';\\nimport ...</td>\n      <td>3c4eef99beeb5bed8727346056422d161eda0f7b</td>\n      <td>5</td>\n      <td></td>\n      <td>['-0.04346119', '0.013179759', '0.016705208', ...</td>\n    </tr>\n  </tbody>\n</table>\n</div>"
     },
     "execution_count": 36,
     "metadata": {},
     "output_type": "execute_result"
    }
   ],
   "source": [],
   "metadata": {
    "collapsed": false,
    "pycharm": {
     "name": "#%%\n"
    }
   }
  }
 ],
 "metadata": {
  "kernelspec": {
   "display_name": "Python 3",
   "language": "python",
   "name": "python3"
  },
  "language_info": {
   "codemirror_mode": {
    "name": "ipython",
    "version": 2
   },
   "file_extension": ".py",
   "mimetype": "text/x-python",
   "name": "python",
   "nbconvert_exporter": "python",
   "pygments_lexer": "ipython2",
   "version": "2.7.6"
  }
 },
 "nbformat": 4,
 "nbformat_minor": 0
}