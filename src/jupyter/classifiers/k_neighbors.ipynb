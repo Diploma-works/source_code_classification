{
 "cells": [
  {
   "cell_type": "code",
   "execution_count": 2,
   "metadata": {
    "collapsed": true,
    "pycharm": {
     "name": "#%%\n"
    }
   },
   "outputs": [
    {
     "ename": "ModuleNotFoundError",
     "evalue": "No module named 'matplotlib'",
     "output_type": "error",
     "traceback": [
      "\u001B[0;31m---------------------------------------------------------------------------\u001B[0m",
      "\u001B[0;31mModuleNotFoundError\u001B[0m                       Traceback (most recent call last)",
      "\u001B[0;32m<ipython-input-2-1313c843265c>\u001B[0m in \u001B[0;36m<module>\u001B[0;34m\u001B[0m\n\u001B[1;32m      1\u001B[0m \u001B[0;32mimport\u001B[0m \u001B[0mpandas\u001B[0m \u001B[0;32mas\u001B[0m \u001B[0mpd\u001B[0m\u001B[0;34m\u001B[0m\u001B[0;34m\u001B[0m\u001B[0m\n\u001B[0;32m----> 2\u001B[0;31m \u001B[0;32mfrom\u001B[0m \u001B[0mmatplotlib\u001B[0m \u001B[0;32mimport\u001B[0m \u001B[0mpyplot\u001B[0m \u001B[0;32mas\u001B[0m \u001B[0mplt\u001B[0m\u001B[0;34m\u001B[0m\u001B[0;34m\u001B[0m\u001B[0m\n\u001B[0m\u001B[1;32m      3\u001B[0m \u001B[0;32mfrom\u001B[0m \u001B[0msklearn\u001B[0m\u001B[0;34m.\u001B[0m\u001B[0mcompose\u001B[0m \u001B[0;32mimport\u001B[0m \u001B[0mmake_column_transformer\u001B[0m\u001B[0;34m\u001B[0m\u001B[0;34m\u001B[0m\u001B[0m\n\u001B[1;32m      4\u001B[0m \u001B[0;32mfrom\u001B[0m \u001B[0msklearn\u001B[0m\u001B[0;34m.\u001B[0m\u001B[0mfeature_extraction\u001B[0m\u001B[0;34m.\u001B[0m\u001B[0mtext\u001B[0m \u001B[0;32mimport\u001B[0m \u001B[0mCountVectorizer\u001B[0m\u001B[0;34m\u001B[0m\u001B[0;34m\u001B[0m\u001B[0m\n\u001B[1;32m      5\u001B[0m \u001B[0;32mfrom\u001B[0m \u001B[0msklearn\u001B[0m\u001B[0;34m.\u001B[0m\u001B[0mmodel_selection\u001B[0m \u001B[0;32mimport\u001B[0m \u001B[0mtrain_test_split\u001B[0m\u001B[0;34m,\u001B[0m \u001B[0mGridSearchCV\u001B[0m\u001B[0;34m\u001B[0m\u001B[0;34m\u001B[0m\u001B[0m\n",
      "\u001B[0;31mModuleNotFoundError\u001B[0m: No module named 'matplotlib'"
     ]
    }
   ],
   "source": [
    "import pandas as pd\n",
    "from matplotlib import pyplot as plt\n",
    "from sklearn.model_selection import train_test_split, GridSearchCV\n",
    "from sklearn.neighbors import KNeighborsClassifier\n",
    "import seaborn as sns"
   ]
  },
  {
   "cell_type": "code",
   "execution_count": null,
   "outputs": [],
   "source": [
    "data = pd.read_csv('../../../data/train/angular_ts.csv')\n",
    "data.head(5)"
   ],
   "metadata": {
    "collapsed": false,
    "pycharm": {
     "name": "#%%\n",
     "is_executing": true
    }
   }
  },
  {
   "cell_type": "code",
   "execution_count": null,
   "outputs": [],
   "source": [
    "data_test = pd.read_csv('../../../data/test/components_ts.csv')\n",
    "data_test.head(5)"
   ],
   "metadata": {
    "collapsed": false,
    "pycharm": {
     "name": "#%%\n"
    }
   }
  },
  {
   "cell_type": "code",
   "execution_count": 7,
   "outputs": [
    {
     "data": {
      "text/plain": "                                           file_name  file_type  \\\n0  aio/content/examples/built-in-directives/src/a...          1   \n1  aio/content/examples/architecture/e2e/src/app....          1   \n2  aio/content/examples/architecture/src/app/back...          1   \n3  aio/content/examples/architecture/src/app/sale...          1   \n4  aio/content/examples/binding-syntax/src/app/ap...          1   \n\n   file_diff_type  is_added  is_deleted  is_modified  is_renamed  \\\n0               2         0           0            1           0   \n1               2         0           0            1           0   \n2               2         0           0            1           0   \n3               2         0           0            1           0   \n4               2         0           0            1           0   \n\n                                           file_diff  \\\n0   +     !(this.nullCustomer = null) ? (this.nul...   \n1   -     const h2 = element.all(by.css('h2')).ma...   \n2   -     const err = new Error('Cannot get objec...   \n3   -     const amount = (typeof value === 'strin...   \n4   -     const testButton = document.getElementB...   \n\n                                         file_before  \\\n0  import { Component, OnInit } from '@angular/co...   \n1  import { protractor, browser, element, by, Ele...   \n2  import { Injectable, Type } from '@angular/cor...   \n3  import { Injectable } from '@angular/core';\\n\\...   \n4  import { Component, ViewChild, ElementRef } fr...   \n\n                                          file_after  \\\n0  import { Component, OnInit } from '@angular/co...   \n1  import { protractor, browser, element, by, Ele...   \n2  import { Injectable, Type } from '@angular/cor...   \n3  import { Injectable } from '@angular/core';\\n\\...   \n4  import { Component, ViewChild, ElementRef } fr...   \n\n                                  commit_id  commit_type  \\\n0  9c5fc1693a07e7411e68b3c0583a05d54f22c78b            3   \n1  01db37435ff733dea571370688e62373a053ba74            3   \n2  01db37435ff733dea571370688e62373a053ba74            3   \n3  01db37435ff733dea571370688e62373a053ba74            3   \n4  01db37435ff733dea571370688e62373a053ba74            3   \n\n                                        vector_after  \\\n0  [0.23563519, -0.15625627, 0.03737405, 0.410486...   \n1  [0.30808026, -0.15802056, 0.063062616, 0.32377...   \n2  [0.12170838, -0.2235764, 0.13226472, 0.1849094...   \n3  [-0.41465417, -0.24975275, -0.1860255, 0.20304...   \n4  [-0.1849036, -0.026450332, -0.27863508, 0.0789...   \n\n                                       vector_before  \n0  [0.23563519, -0.15625627, 0.03737405, 0.410486...  \n1  [0.30808026, -0.15802056, 0.063062616, 0.32377...  \n2  [0.12170838, -0.2235764, 0.13226472, 0.1849094...  \n3  [-0.41465417, -0.24975275, -0.1860255, 0.20304...  \n4  [-0.1849036, -0.026450332, -0.27863508, 0.0789...  ",
      "text/html": "<div>\n<style scoped>\n    .dataframe tbody tr th:only-of-type {\n        vertical-align: middle;\n    }\n\n    .dataframe tbody tr th {\n        vertical-align: top;\n    }\n\n    .dataframe thead th {\n        text-align: right;\n    }\n</style>\n<table border=\"1\" class=\"dataframe\">\n  <thead>\n    <tr style=\"text-align: right;\">\n      <th></th>\n      <th>file_name</th>\n      <th>file_type</th>\n      <th>file_diff_type</th>\n      <th>is_added</th>\n      <th>is_deleted</th>\n      <th>is_modified</th>\n      <th>is_renamed</th>\n      <th>file_diff</th>\n      <th>file_before</th>\n      <th>file_after</th>\n      <th>commit_id</th>\n      <th>commit_type</th>\n      <th>vector_after</th>\n      <th>vector_before</th>\n    </tr>\n  </thead>\n  <tbody>\n    <tr>\n      <th>0</th>\n      <td>aio/content/examples/built-in-directives/src/a...</td>\n      <td>1</td>\n      <td>2</td>\n      <td>0</td>\n      <td>0</td>\n      <td>1</td>\n      <td>0</td>\n      <td>+     !(this.nullCustomer = null) ? (this.nul...</td>\n      <td>import { Component, OnInit } from '@angular/co...</td>\n      <td>import { Component, OnInit } from '@angular/co...</td>\n      <td>9c5fc1693a07e7411e68b3c0583a05d54f22c78b</td>\n      <td>3</td>\n      <td>[0.23563519, -0.15625627, 0.03737405, 0.410486...</td>\n      <td>[0.23563519, -0.15625627, 0.03737405, 0.410486...</td>\n    </tr>\n    <tr>\n      <th>1</th>\n      <td>aio/content/examples/architecture/e2e/src/app....</td>\n      <td>1</td>\n      <td>2</td>\n      <td>0</td>\n      <td>0</td>\n      <td>1</td>\n      <td>0</td>\n      <td>-     const h2 = element.all(by.css('h2')).ma...</td>\n      <td>import { protractor, browser, element, by, Ele...</td>\n      <td>import { protractor, browser, element, by, Ele...</td>\n      <td>01db37435ff733dea571370688e62373a053ba74</td>\n      <td>3</td>\n      <td>[0.30808026, -0.15802056, 0.063062616, 0.32377...</td>\n      <td>[0.30808026, -0.15802056, 0.063062616, 0.32377...</td>\n    </tr>\n    <tr>\n      <th>2</th>\n      <td>aio/content/examples/architecture/src/app/back...</td>\n      <td>1</td>\n      <td>2</td>\n      <td>0</td>\n      <td>0</td>\n      <td>1</td>\n      <td>0</td>\n      <td>-     const err = new Error('Cannot get objec...</td>\n      <td>import { Injectable, Type } from '@angular/cor...</td>\n      <td>import { Injectable, Type } from '@angular/cor...</td>\n      <td>01db37435ff733dea571370688e62373a053ba74</td>\n      <td>3</td>\n      <td>[0.12170838, -0.2235764, 0.13226472, 0.1849094...</td>\n      <td>[0.12170838, -0.2235764, 0.13226472, 0.1849094...</td>\n    </tr>\n    <tr>\n      <th>3</th>\n      <td>aio/content/examples/architecture/src/app/sale...</td>\n      <td>1</td>\n      <td>2</td>\n      <td>0</td>\n      <td>0</td>\n      <td>1</td>\n      <td>0</td>\n      <td>-     const amount = (typeof value === 'strin...</td>\n      <td>import { Injectable } from '@angular/core';\\n\\...</td>\n      <td>import { Injectable } from '@angular/core';\\n\\...</td>\n      <td>01db37435ff733dea571370688e62373a053ba74</td>\n      <td>3</td>\n      <td>[-0.41465417, -0.24975275, -0.1860255, 0.20304...</td>\n      <td>[-0.41465417, -0.24975275, -0.1860255, 0.20304...</td>\n    </tr>\n    <tr>\n      <th>4</th>\n      <td>aio/content/examples/binding-syntax/src/app/ap...</td>\n      <td>1</td>\n      <td>2</td>\n      <td>0</td>\n      <td>0</td>\n      <td>1</td>\n      <td>0</td>\n      <td>-     const testButton = document.getElementB...</td>\n      <td>import { Component, ViewChild, ElementRef } fr...</td>\n      <td>import { Component, ViewChild, ElementRef } fr...</td>\n      <td>01db37435ff733dea571370688e62373a053ba74</td>\n      <td>3</td>\n      <td>[-0.1849036, -0.026450332, -0.27863508, 0.0789...</td>\n      <td>[-0.1849036, -0.026450332, -0.27863508, 0.0789...</td>\n    </tr>\n  </tbody>\n</table>\n</div>"
     },
     "execution_count": 7,
     "metadata": {},
     "output_type": "execute_result"
    }
   ],
   "source": [
    "################## making dataset_vec ##################\n",
    "\n",
    "import csv\n",
    "import pandas as pd\n",
    "\n",
    "def parse_file_name(name):\n",
    "    # file name pattern: name_commitId_before/after.ts\n",
    "\n",
    "    index = name.rfind('_')\n",
    "    file_type = name[index+1:-3]\n",
    "\n",
    "    name = name[:index]\n",
    "    index = name.rfind('_')\n",
    "    commit_id = name[index+1:]\n",
    "\n",
    "    name = name[17:index]\n",
    "\n",
    "    index = name.find(':')\n",
    "    if index != -1:\n",
    "        name = name.replace(':', '/')\n",
    "\n",
    "    return name, commit_id, file_type\n",
    "\n",
    "\n",
    "def vec_to_float(list):\n",
    "    list_float = [float(l) for l in list]\n",
    "    return list_float\n",
    "\n",
    "\n",
    "def get_file_vectors(tokens_file, vectors_file):\n",
    "    with open(tokens_file, 'r') as tokens, \\\n",
    "            open(vectors_file, 'r') as vectors:\n",
    "        tokens = tokens.read().splitlines()\n",
    "        vectors_list = vectors.read().splitlines()\n",
    "\n",
    "        names = []\n",
    "        for i in range(0, len(tokens)):\n",
    "            if i % 2 == 0:\n",
    "                if tokens[i].startswith('raw_data/val_dir'):\n",
    "                    names.append(tokens[i])\n",
    "\n",
    "\n",
    "    filenames = []\n",
    "    commits = []\n",
    "    types = []\n",
    "\n",
    "    for name in names:\n",
    "        filename, commit_id, file_type = parse_file_name(name)\n",
    "        filenames.append(filename)\n",
    "        commits.append(commit_id)\n",
    "        types.append(file_type)\n",
    "\n",
    "    file_vectors = []\n",
    "\n",
    "    for i in range(0, len(names)):\n",
    "        vector_list = vectors_list[i].split()\n",
    "        vector_list = vec_to_float(vector_list)\n",
    "\n",
    "        same_file = [file for file in file_vectors\n",
    "                   if (file.get('name') == filenames[i] and file.get('commit_id') == commits[i])]\n",
    "\n",
    "        if same_file:\n",
    "            if types[i] == 'before':\n",
    "                same_file[0]['vector_before'] = vector_list\n",
    "            elif types[i] == 'after':\n",
    "                same_file[0]['vector_after'] = vector_list\n",
    "        else:\n",
    "            if types[i] == 'before':\n",
    "                file_vec = {'name': filenames[i], 'commit_id': commits[i], 'vector_before': vector_list}\n",
    "            elif types[i] == 'after':\n",
    "                file_vec = {'name': filenames[i], 'commit_id': commits[i], 'vector_after': vector_list}\n",
    "            file_vectors.append(file_vec)\n",
    "\n",
    "    return file_vectors\n",
    "\n",
    "\n",
    "file_vectors = get_file_vectors('../../../data/train/vectors_data/val_raw.txt', '../../../data/train/vectors_data/ts_dataset.val.c2v.vectors')\n",
    "file_test_vectors = get_file_vectors('../../../data/test/vectors_data/components_vectors/val_raw.txt',\n",
    "                                     '../../../data/test/vectors_data/components_vectors/ts_dataset.val.c2v.vectors')\n",
    "\n",
    "data_vectors = pd.DataFrame(file_vectors)\n",
    "data_test_vectors = pd.DataFrame(file_test_vectors)\n",
    "\n",
    "data_vectors = data_vectors.fillna(0)\n",
    "data_test_vectors = data_test_vectors.fillna(0)\n",
    "\n",
    "data_vectors = data_vectors.rename(columns={'name': 'file_name'})\n",
    "data_test_vectors = dadata_test_vectors.rename(columns={'name': 'file_name'})\n",
    "\n",
    "merged = pd.merge(left=data, right=data_vectors, on=['file_name', 'commit_id'], how='inner')\n",
    "merged_test = pd.merge(left=data_test, right=data_test_vectors, on=['file_name', 'commit_id'], how='inner')"
   ],
   "metadata": {
    "collapsed": false,
    "pycharm": {
     "name": "#%%\n"
    }
   }
  },
  {
   "cell_type": "code",
   "execution_count": 8,
   "outputs": [
    {
     "data": {
      "text/plain": "     is_added  is_deleted  is_modified  is_renamed  \\\n0           0           0            1           0   \n1           0           0            1           0   \n2           0           0            1           0   \n3           0           0            1           0   \n4           0           0            1           0   \n..        ...         ...          ...         ...   \n590         0           0            1           0   \n591         0           0            1           0   \n592         0           0            1           0   \n593         0           0            1           0   \n594         0           0            1           0   \n\n                                           file_before  \\\n0    import { Component, OnInit } from '@angular/co...   \n1    import { protractor, browser, element, by, Ele...   \n2    import { Injectable, Type } from '@angular/cor...   \n3    import { Injectable } from '@angular/core';\\n\\...   \n4    import { Component, ViewChild, ElementRef } fr...   \n..                                                 ...   \n590  import { Injectable } from '@angular/core';\\n\\...   \n591  /*\\n * A collection of demo components showing...   \n592  import { protractor, browser, element, by, Ele...   \n593  import { Component } from '@angular/core';\\n\\n...   \n594  // #docregion\\nimport { Injectable } from '@an...   \n\n                                            file_after  commit_type  \n0    import { Component, OnInit } from '@angular/co...            3  \n1    import { protractor, browser, element, by, Ele...            3  \n2    import { Injectable, Type } from '@angular/cor...            3  \n3    import { Injectable } from '@angular/core';\\n\\...            3  \n4    import { Component, ViewChild, ElementRef } fr...            3  \n..                                                 ...          ...  \n590  import { Injectable } from '@angular/core';\\n\\...            3  \n591  /*\\n * A collection of demo components showing...            3  \n592  import { protractor, browser, element, by, Ele...            3  \n593  import { Component } from '@angular/core';\\n\\n...            3  \n594  // #docregion\\nimport { Injectable } from '@an...            4  \n\n[595 rows x 7 columns]",
      "text/html": "<div>\n<style scoped>\n    .dataframe tbody tr th:only-of-type {\n        vertical-align: middle;\n    }\n\n    .dataframe tbody tr th {\n        vertical-align: top;\n    }\n\n    .dataframe thead th {\n        text-align: right;\n    }\n</style>\n<table border=\"1\" class=\"dataframe\">\n  <thead>\n    <tr style=\"text-align: right;\">\n      <th></th>\n      <th>is_added</th>\n      <th>is_deleted</th>\n      <th>is_modified</th>\n      <th>is_renamed</th>\n      <th>file_before</th>\n      <th>file_after</th>\n      <th>commit_type</th>\n    </tr>\n  </thead>\n  <tbody>\n    <tr>\n      <th>0</th>\n      <td>0</td>\n      <td>0</td>\n      <td>1</td>\n      <td>0</td>\n      <td>import { Component, OnInit } from '@angular/co...</td>\n      <td>import { Component, OnInit } from '@angular/co...</td>\n      <td>3</td>\n    </tr>\n    <tr>\n      <th>1</th>\n      <td>0</td>\n      <td>0</td>\n      <td>1</td>\n      <td>0</td>\n      <td>import { protractor, browser, element, by, Ele...</td>\n      <td>import { protractor, browser, element, by, Ele...</td>\n      <td>3</td>\n    </tr>\n    <tr>\n      <th>2</th>\n      <td>0</td>\n      <td>0</td>\n      <td>1</td>\n      <td>0</td>\n      <td>import { Injectable, Type } from '@angular/cor...</td>\n      <td>import { Injectable, Type } from '@angular/cor...</td>\n      <td>3</td>\n    </tr>\n    <tr>\n      <th>3</th>\n      <td>0</td>\n      <td>0</td>\n      <td>1</td>\n      <td>0</td>\n      <td>import { Injectable } from '@angular/core';\\n\\...</td>\n      <td>import { Injectable } from '@angular/core';\\n\\...</td>\n      <td>3</td>\n    </tr>\n    <tr>\n      <th>4</th>\n      <td>0</td>\n      <td>0</td>\n      <td>1</td>\n      <td>0</td>\n      <td>import { Component, ViewChild, ElementRef } fr...</td>\n      <td>import { Component, ViewChild, ElementRef } fr...</td>\n      <td>3</td>\n    </tr>\n    <tr>\n      <th>...</th>\n      <td>...</td>\n      <td>...</td>\n      <td>...</td>\n      <td>...</td>\n      <td>...</td>\n      <td>...</td>\n      <td>...</td>\n    </tr>\n    <tr>\n      <th>590</th>\n      <td>0</td>\n      <td>0</td>\n      <td>1</td>\n      <td>0</td>\n      <td>import { Injectable } from '@angular/core';\\n\\...</td>\n      <td>import { Injectable } from '@angular/core';\\n\\...</td>\n      <td>3</td>\n    </tr>\n    <tr>\n      <th>591</th>\n      <td>0</td>\n      <td>0</td>\n      <td>1</td>\n      <td>0</td>\n      <td>/*\\n * A collection of demo components showing...</td>\n      <td>/*\\n * A collection of demo components showing...</td>\n      <td>3</td>\n    </tr>\n    <tr>\n      <th>592</th>\n      <td>0</td>\n      <td>0</td>\n      <td>1</td>\n      <td>0</td>\n      <td>import { protractor, browser, element, by, Ele...</td>\n      <td>import { protractor, browser, element, by, Ele...</td>\n      <td>3</td>\n    </tr>\n    <tr>\n      <th>593</th>\n      <td>0</td>\n      <td>0</td>\n      <td>1</td>\n      <td>0</td>\n      <td>import { Component } from '@angular/core';\\n\\n...</td>\n      <td>import { Component } from '@angular/core';\\n\\n...</td>\n      <td>3</td>\n    </tr>\n    <tr>\n      <th>594</th>\n      <td>0</td>\n      <td>0</td>\n      <td>1</td>\n      <td>0</td>\n      <td>// #docregion\\nimport { Injectable } from '@an...</td>\n      <td>// #docregion\\nimport { Injectable } from '@an...</td>\n      <td>4</td>\n    </tr>\n  </tbody>\n</table>\n<p>595 rows × 7 columns</p>\n</div>"
     },
     "execution_count": 8,
     "metadata": {},
     "output_type": "execute_result"
    }
   ],
   "source": [
    "table = merged[['is_added', 'is_deleted', 'is_modified', 'is_renamed', 'file_before', 'file_after', 'commit_type']]\n",
    "table_test = merged_test[['is_added', 'is_deleted', 'is_modified', 'is_renamed', 'file_before', 'file_after', 'commit_type']]"
   ],
   "metadata": {
    "collapsed": false,
    "pycharm": {
     "name": "#%%\n"
    }
   }
  },
  {
   "cell_type": "code",
   "execution_count": 2,
   "outputs": [
    {
     "data": {
      "text/plain": "(44666, 6)"
     },
     "execution_count": 2,
     "metadata": {},
     "output_type": "execute_result"
    }
   ],
   "source": [
    "data_test = table_test[['file_type', 'file_diff_type', 'file_diff']]\n",
    "y_data_test = table_test[['commit_type']]\n",
    "\n",
    "X_train, X_test, y_train, y_test = train_test_split(\n",
    "    table[['file_type', 'file_diff_type', 'file_diff']],\n",
    "    table[['commit_type']], test_size=0.2)"
   ],
   "metadata": {
    "collapsed": false,
    "pycharm": {
     "name": "#%%\n"
    }
   }
  },
  {
   "cell_type": "code",
   "execution_count": 4,
   "outputs": [],
   "source": [
    "n_neighbors_values = range(1, 50, 5)\n",
    "scores_data = pd.DataFrame()"
   ],
   "metadata": {
    "collapsed": false,
    "pycharm": {
     "name": "#%%\n"
    }
   }
  },
  {
   "cell_type": "code",
   "execution_count": 2,
   "outputs": [],
   "source": [
    "################## looking for the best n_neighbors ##################"
   ],
   "metadata": {
    "collapsed": false,
    "pycharm": {
     "name": "#%%\n"
    }
   }
  },
  {
   "cell_type": "code",
   "execution_count": 5,
   "outputs": [
    {
     "name": "stderr",
     "output_type": "stream",
     "text": [
      "/home/ekaterina/Documents/ucheb/diplom/itmo-source-code-changes-analyser/venv/lib/python3.8/site-packages/sklearn/neighbors/_classification.py:179: DataConversionWarning: A column-vector y was passed when a 1d array was expected. Please change the shape of y to (n_samples,), for example using ravel().\n",
      "  return self._fit(X, y)\n"
     ]
    },
    {
     "name": "stdout",
     "output_type": "stream",
     "text": [
      "1\n"
     ]
    },
    {
     "name": "stderr",
     "output_type": "stream",
     "text": [
      "/home/ekaterina/Documents/ucheb/diplom/itmo-source-code-changes-analyser/venv/lib/python3.8/site-packages/sklearn/neighbors/_classification.py:179: DataConversionWarning: A column-vector y was passed when a 1d array was expected. Please change the shape of y to (n_samples,), for example using ravel().\n",
      "  return self._fit(X, y)\n"
     ]
    },
    {
     "name": "stdout",
     "output_type": "stream",
     "text": [
      "6\n"
     ]
    },
    {
     "name": "stderr",
     "output_type": "stream",
     "text": [
      "/home/ekaterina/Documents/ucheb/diplom/itmo-source-code-changes-analyser/venv/lib/python3.8/site-packages/sklearn/neighbors/_classification.py:179: DataConversionWarning: A column-vector y was passed when a 1d array was expected. Please change the shape of y to (n_samples,), for example using ravel().\n",
      "  return self._fit(X, y)\n"
     ]
    },
    {
     "name": "stdout",
     "output_type": "stream",
     "text": [
      "11\n"
     ]
    },
    {
     "name": "stderr",
     "output_type": "stream",
     "text": [
      "/home/ekaterina/Documents/ucheb/diplom/itmo-source-code-changes-analyser/venv/lib/python3.8/site-packages/sklearn/neighbors/_classification.py:179: DataConversionWarning: A column-vector y was passed when a 1d array was expected. Please change the shape of y to (n_samples,), for example using ravel().\n",
      "  return self._fit(X, y)\n"
     ]
    },
    {
     "name": "stdout",
     "output_type": "stream",
     "text": [
      "16\n"
     ]
    },
    {
     "name": "stderr",
     "output_type": "stream",
     "text": [
      "/home/ekaterina/Documents/ucheb/diplom/itmo-source-code-changes-analyser/venv/lib/python3.8/site-packages/sklearn/neighbors/_classification.py:179: DataConversionWarning: A column-vector y was passed when a 1d array was expected. Please change the shape of y to (n_samples,), for example using ravel().\n",
      "  return self._fit(X, y)\n"
     ]
    },
    {
     "name": "stdout",
     "output_type": "stream",
     "text": [
      "21\n"
     ]
    },
    {
     "name": "stderr",
     "output_type": "stream",
     "text": [
      "/home/ekaterina/Documents/ucheb/diplom/itmo-source-code-changes-analyser/venv/lib/python3.8/site-packages/sklearn/neighbors/_classification.py:179: DataConversionWarning: A column-vector y was passed when a 1d array was expected. Please change the shape of y to (n_samples,), for example using ravel().\n",
      "  return self._fit(X, y)\n"
     ]
    },
    {
     "name": "stdout",
     "output_type": "stream",
     "text": [
      "26\n"
     ]
    },
    {
     "name": "stderr",
     "output_type": "stream",
     "text": [
      "/home/ekaterina/Documents/ucheb/diplom/itmo-source-code-changes-analyser/venv/lib/python3.8/site-packages/sklearn/neighbors/_classification.py:179: DataConversionWarning: A column-vector y was passed when a 1d array was expected. Please change the shape of y to (n_samples,), for example using ravel().\n",
      "  return self._fit(X, y)\n"
     ]
    },
    {
     "name": "stdout",
     "output_type": "stream",
     "text": [
      "31\n"
     ]
    },
    {
     "name": "stderr",
     "output_type": "stream",
     "text": [
      "/home/ekaterina/Documents/ucheb/diplom/itmo-source-code-changes-analyser/venv/lib/python3.8/site-packages/sklearn/neighbors/_classification.py:179: DataConversionWarning: A column-vector y was passed when a 1d array was expected. Please change the shape of y to (n_samples,), for example using ravel().\n",
      "  return self._fit(X, y)\n"
     ]
    },
    {
     "name": "stdout",
     "output_type": "stream",
     "text": [
      "36\n"
     ]
    },
    {
     "name": "stderr",
     "output_type": "stream",
     "text": [
      "/home/ekaterina/Documents/ucheb/diplom/itmo-source-code-changes-analyser/venv/lib/python3.8/site-packages/sklearn/neighbors/_classification.py:179: DataConversionWarning: A column-vector y was passed when a 1d array was expected. Please change the shape of y to (n_samples,), for example using ravel().\n",
      "  return self._fit(X, y)\n"
     ]
    },
    {
     "name": "stdout",
     "output_type": "stream",
     "text": [
      "41\n"
     ]
    },
    {
     "name": "stderr",
     "output_type": "stream",
     "text": [
      "/home/ekaterina/Documents/ucheb/diplom/itmo-source-code-changes-analyser/venv/lib/python3.8/site-packages/sklearn/neighbors/_classification.py:179: DataConversionWarning: A column-vector y was passed when a 1d array was expected. Please change the shape of y to (n_samples,), for example using ravel().\n",
      "  return self._fit(X, y)\n"
     ]
    },
    {
     "name": "stdout",
     "output_type": "stream",
     "text": [
      "46\n"
     ]
    }
   ],
   "source": [
    "for n in n_neighbors_values:\n",
    "    knn = KNeighborsClassifier(n_neighbors=n)\n",
    "    knn.fit(X_train, y_train)\n",
    "    test_score = knn.score(X_test, y_test)\n",
    "    train_score = knn.score(X_train, y_train)\n",
    "\n",
    "    score_data = pd.DataFrame({'max_depth': [n],\n",
    "                               'train_score': [train_score],\n",
    "                               'test_score': [test_score]})\n",
    "    scores_data = scores_data.append(score_data)\n",
    "    print(n)"
   ],
   "metadata": {
    "collapsed": false,
    "pycharm": {
     "name": "#%%\n"
    }
   }
  },
  {
   "cell_type": "code",
   "execution_count": 9,
   "outputs": [
    {
     "data": {
      "text/plain": "   n_neighbors  train_score  test_score\n0            1     0.955754    0.637229\n0            6     0.715493    0.591225\n0           11     0.663859    0.578017\n0           16     0.635509    0.569286\n0           21     0.615974    0.563353\n0           26     0.601030    0.551936\n0           31     0.590563    0.544773\n0           36     0.575842    0.536714\n0           41     0.563696    0.535706\n0           46     0.553649    0.528431",
      "text/html": "<div>\n<style scoped>\n    .dataframe tbody tr th:only-of-type {\n        vertical-align: middle;\n    }\n\n    .dataframe tbody tr th {\n        vertical-align: top;\n    }\n\n    .dataframe thead th {\n        text-align: right;\n    }\n</style>\n<table border=\"1\" class=\"dataframe\">\n  <thead>\n    <tr style=\"text-align: right;\">\n      <th></th>\n      <th>n_neighbors</th>\n      <th>train_score</th>\n      <th>test_score</th>\n    </tr>\n  </thead>\n  <tbody>\n    <tr>\n      <th>0</th>\n      <td>1</td>\n      <td>0.955754</td>\n      <td>0.637229</td>\n    </tr>\n    <tr>\n      <th>0</th>\n      <td>6</td>\n      <td>0.715493</td>\n      <td>0.591225</td>\n    </tr>\n    <tr>\n      <th>0</th>\n      <td>11</td>\n      <td>0.663859</td>\n      <td>0.578017</td>\n    </tr>\n    <tr>\n      <th>0</th>\n      <td>16</td>\n      <td>0.635509</td>\n      <td>0.569286</td>\n    </tr>\n    <tr>\n      <th>0</th>\n      <td>21</td>\n      <td>0.615974</td>\n      <td>0.563353</td>\n    </tr>\n    <tr>\n      <th>0</th>\n      <td>26</td>\n      <td>0.601030</td>\n      <td>0.551936</td>\n    </tr>\n    <tr>\n      <th>0</th>\n      <td>31</td>\n      <td>0.590563</td>\n      <td>0.544773</td>\n    </tr>\n    <tr>\n      <th>0</th>\n      <td>36</td>\n      <td>0.575842</td>\n      <td>0.536714</td>\n    </tr>\n    <tr>\n      <th>0</th>\n      <td>41</td>\n      <td>0.563696</td>\n      <td>0.535706</td>\n    </tr>\n    <tr>\n      <th>0</th>\n      <td>46</td>\n      <td>0.553649</td>\n      <td>0.528431</td>\n    </tr>\n  </tbody>\n</table>\n</div>"
     },
     "execution_count": 9,
     "metadata": {},
     "output_type": "execute_result"
    }
   ],
   "source": [
    "scores_data = scores_data.rename(columns={'max_depth': 'n_neighbors'})\n",
    "scores_data"
   ],
   "metadata": {
    "collapsed": false,
    "pycharm": {
     "name": "#%%\n"
    }
   }
  },
  {
   "cell_type": "code",
   "execution_count": 16,
   "outputs": [
    {
     "data": {
      "text/plain": "    n_neighbors         type     score\n0             1  train_score  0.955754\n1             6  train_score  0.715493\n2            11  train_score  0.663859\n3            16  train_score  0.635509\n4            21  train_score  0.615974\n5            26  train_score  0.601030\n6            31  train_score  0.590563\n7            36  train_score  0.575842\n8            41  train_score  0.563696\n9            46  train_score  0.553649\n10            1   test_score  0.717229\n11            6   test_score  0.671225\n12           11   test_score  0.638017\n13           16   test_score  0.609286\n14           21   test_score  0.583353\n15           26   test_score  0.571936\n16           31   test_score  0.564773\n17           36   test_score  0.546714\n18           41   test_score  0.535706\n19           46   test_score  0.528431",
      "text/html": "<div>\n<style scoped>\n    .dataframe tbody tr th:only-of-type {\n        vertical-align: middle;\n    }\n\n    .dataframe tbody tr th {\n        vertical-align: top;\n    }\n\n    .dataframe thead th {\n        text-align: right;\n    }\n</style>\n<table border=\"1\" class=\"dataframe\">\n  <thead>\n    <tr style=\"text-align: right;\">\n      <th></th>\n      <th>n_neighbors</th>\n      <th>type</th>\n      <th>score</th>\n    </tr>\n  </thead>\n  <tbody>\n    <tr>\n      <th>0</th>\n      <td>1</td>\n      <td>train_score</td>\n      <td>0.955754</td>\n    </tr>\n    <tr>\n      <th>1</th>\n      <td>6</td>\n      <td>train_score</td>\n      <td>0.715493</td>\n    </tr>\n    <tr>\n      <th>2</th>\n      <td>11</td>\n      <td>train_score</td>\n      <td>0.663859</td>\n    </tr>\n    <tr>\n      <th>3</th>\n      <td>16</td>\n      <td>train_score</td>\n      <td>0.635509</td>\n    </tr>\n    <tr>\n      <th>4</th>\n      <td>21</td>\n      <td>train_score</td>\n      <td>0.615974</td>\n    </tr>\n    <tr>\n      <th>5</th>\n      <td>26</td>\n      <td>train_score</td>\n      <td>0.601030</td>\n    </tr>\n    <tr>\n      <th>6</th>\n      <td>31</td>\n      <td>train_score</td>\n      <td>0.590563</td>\n    </tr>\n    <tr>\n      <th>7</th>\n      <td>36</td>\n      <td>train_score</td>\n      <td>0.575842</td>\n    </tr>\n    <tr>\n      <th>8</th>\n      <td>41</td>\n      <td>train_score</td>\n      <td>0.563696</td>\n    </tr>\n    <tr>\n      <th>9</th>\n      <td>46</td>\n      <td>train_score</td>\n      <td>0.553649</td>\n    </tr>\n    <tr>\n      <th>10</th>\n      <td>1</td>\n      <td>test_score</td>\n      <td>0.717229</td>\n    </tr>\n    <tr>\n      <th>11</th>\n      <td>6</td>\n      <td>test_score</td>\n      <td>0.671225</td>\n    </tr>\n    <tr>\n      <th>12</th>\n      <td>11</td>\n      <td>test_score</td>\n      <td>0.638017</td>\n    </tr>\n    <tr>\n      <th>13</th>\n      <td>16</td>\n      <td>test_score</td>\n      <td>0.609286</td>\n    </tr>\n    <tr>\n      <th>14</th>\n      <td>21</td>\n      <td>test_score</td>\n      <td>0.583353</td>\n    </tr>\n    <tr>\n      <th>15</th>\n      <td>26</td>\n      <td>test_score</td>\n      <td>0.571936</td>\n    </tr>\n    <tr>\n      <th>16</th>\n      <td>31</td>\n      <td>test_score</td>\n      <td>0.564773</td>\n    </tr>\n    <tr>\n      <th>17</th>\n      <td>36</td>\n      <td>test_score</td>\n      <td>0.546714</td>\n    </tr>\n    <tr>\n      <th>18</th>\n      <td>41</td>\n      <td>test_score</td>\n      <td>0.535706</td>\n    </tr>\n    <tr>\n      <th>19</th>\n      <td>46</td>\n      <td>test_score</td>\n      <td>0.528431</td>\n    </tr>\n  </tbody>\n</table>\n</div>"
     },
     "execution_count": 16,
     "metadata": {},
     "output_type": "execute_result"
    }
   ],
   "source": [
    "scores_data_long = pd.melt(scores_data, id_vars=['n_neighbors'],\n",
    "                           value_vars=['train_score', 'test_score'],\n",
    "                           var_name='type',\n",
    "                           value_name='score')\n",
    "scores_data_long"
   ],
   "metadata": {
    "collapsed": false,
    "pycharm": {
     "name": "#%%\n"
    }
   }
  },
  {
   "cell_type": "code",
   "execution_count": 17,
   "outputs": [
    {
     "data": {
      "text/plain": "[(0.0, 50.0)]"
     },
     "execution_count": 17,
     "metadata": {},
     "output_type": "execute_result"
    },
    {
     "data": {
      "text/plain": "<Figure size 720x360 with 1 Axes>",
      "image/png": "[encoded data removed]"
     },
     "metadata": {},
     "output_type": "display_data"
    }
   ],
   "source": [
    "sns.set_style(\"whitegrid\")\n",
    "\n",
    "fig,ax = plt.subplots(figsize=(10,5))\n",
    "plot = sns.lineplot(data=scores_data_long,\n",
    "                    x='n_neighbors',\n",
    "                    y='score',\n",
    "                    hue='type',\n",
    "                    ax=ax,\n",
    "                    palette='nipy_spectral')\n",
    "ax.set(xlim=(0, 50))\n"
   ],
   "metadata": {
    "collapsed": false,
    "pycharm": {
     "name": "#%%\n"
    }
   }
  },
  {
   "cell_type": "code",
   "execution_count": 18,
   "outputs": [],
   "source": [
    "plot.figure.savefig('../../../data/angular/images/knn/train_test_score_k_neighbors_1.png')"
   ],
   "metadata": {
    "collapsed": false,
    "pycharm": {
     "name": "#%%\n"
    }
   }
  },
  {
   "cell_type": "code",
   "execution_count": null,
   "outputs": [],
   "source": [
    "################## best estimator ##################"
   ],
   "metadata": {
    "collapsed": false,
    "pycharm": {
     "name": "#%%\n"
    }
   }
  },
  {
   "cell_type": "code",
   "execution_count": 13,
   "outputs": [
    {
     "name": "stderr",
     "output_type": "stream",
     "text": [
      "/home/ekaterina/Documents/ucheb/diplom/itmo-source-code-changes-analyser/venv/lib/python3.8/site-packages/sklearn/neighbors/_classification.py:179: DataConversionWarning: A column-vector y was passed when a 1d array was expected. Please change the shape of y to (n_samples,), for example using ravel().\n",
      "  return self._fit(X, y)\n"
     ]
    },
    {
     "data": {
      "text/plain": "Pipeline(steps=[('columntransformer',\n                 ColumnTransformer(remainder='passthrough',\n                                   transformers=[('countvectorizer',\n                                                  CountVectorizer(),\n                                                  'file_diff')])),\n                ('kneighborsclassifier', KNeighborsClassifier(n_neighbors=1))])"
     },
     "execution_count": 13,
     "metadata": {},
     "output_type": "execute_result"
    }
   ],
   "source": [
    "knn = KNeighborsClassifier(n_neighbors=1)\n",
    "knn.fit(X_train, y_train)"
   ],
   "metadata": {
    "collapsed": false,
    "pycharm": {
     "name": "#%%\n"
    }
   }
  },
  {
   "cell_type": "code",
   "execution_count": null,
   "outputs": [],
   "source": [
    "test_score = knn.score(X_test, y_test)\n",
    "train_score = knn.score(X_train, y_train)"
   ],
   "metadata": {
    "collapsed": false,
    "pycharm": {
     "name": "#%%\n",
     "is_executing": true
    }
   }
  },
  {
   "cell_type": "code",
   "execution_count": null,
   "outputs": [],
   "source": [
    "predicted = knn.predict(data_test)\n",
    "pred_score = knn.score(data_test, y_data_test)"
   ],
   "metadata": {
    "collapsed": false,
    "pycharm": {
     "name": "#%%\n",
     "is_executing": true
    }
   }
  },
  {
   "cell_type": "code",
   "execution_count": null,
   "outputs": [],
   "source": [],
   "metadata": {
    "collapsed": false,
    "pycharm": {
     "name": "#%%\n"
    }
   }
  }
 ],
 "metadata": {
  "kernelspec": {
   "display_name": "Python 3",
   "language": "python",
   "name": "python3"
  },
  "language_info": {
   "codemirror_mode": {
    "name": "ipython",
    "version": 2
   },
   "file_extension": ".py",
   "mimetype": "text/x-python",
   "name": "python",
   "nbconvert_exporter": "python",
   "pygments_lexer": "ipython2",
   "version": "2.7.6"
  }
 },
 "nbformat": 4,
 "nbformat_minor": 0
}