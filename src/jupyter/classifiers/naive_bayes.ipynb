{
 "cells": [
  {
   "cell_type": "code",
   "execution_count": 1,
   "metadata": {
    "collapsed": true,
    "pycharm": {
     "name": "#%%\n"
    }
   },
   "outputs": [
    {
     "name": "stderr",
     "output_type": "stream",
     "text": [
      "/home/ekaterina/Documents/ucheb/diplom/itmo-source-code-changes-analyser/venv/lib/python3.8/site-packages/pandas/compat/__init__.py:97: UserWarning: Could not import the lzma module. Your installed Python is incomplete. Attempting to use lzma compression will result in a RuntimeError.\n",
      "  warnings.warn(msg)\n"
     ]
    }
   ],
   "source": [
    "import pandas as pd\n",
    "from sklearn import metrics\n",
    "from sklearn.compose import make_column_transformer\n",
    "from sklearn.feature_extraction.text import CountVectorizer\n",
    "from sklearn.model_selection import train_test_split\n",
    "from sklearn.naive_bayes import MultinomialNB, ComplementNB"
   ]
  },
  {
   "cell_type": "code",
   "execution_count": null,
   "outputs": [],
   "source": [
    "data = pd.read_csv('../../../data/train/angular_ts.csv')\n",
    "data.head(5)"
   ],
   "metadata": {
    "collapsed": false,
    "pycharm": {
     "name": "#%%\n"
    }
   }
  },
  {
   "cell_type": "code",
   "execution_count": null,
   "outputs": [],
   "source": [
    "data_test = pd.read_csv('../../../data/test/components_ts.csv')\n",
    "data_test.head(5)"
   ],
   "metadata": {
    "collapsed": false,
    "pycharm": {
     "name": "#%%\n"
    }
   }
  },
  {
   "cell_type": "code",
   "execution_count": null,
   "outputs": [],
   "source": [
    "def parse_file_name(name):\n",
    "    # file name pattern: name_commitId_before/after.tsww.win2.cn/g10\n",
    "\n",
    "\n",
    "    index = name.rfind('_')\n",
    "    file_type = name[index+1:-3]\n",
    "\n",
    "    name = name[:index]\n",
    "    index = name.rfind('_')\n",
    "    commit_id = name[index+1:]\n",
    "\n",
    "    name = name[17:index]\n",
    "\n",
    "    index = name.find(':')\n",
    "    if index != -1:\n",
    "        name = name.replace(':', '/')\n",
    "\n",
    "    return name, commit_id, file_type\n",
    "\n",
    "\n",
    "def vec_to_float(list):\n",
    "    list_float = [float(l) for l in list]\n",
    "    return list_float\n",
    "\n",
    "\n",
    "def get_file_vectors(tokens_file, vectors_file):\n",
    "    with open(tokens_file, 'r') as tokens, \\\n",
    "            open(vectors_file, 'r') as vectors:\n",
    "        tokens = tokens.read().splitlines()\n",
    "        vectors_list = vectors.read().splitlines()\n",
    "\n",
    "        names = []\n",
    "        for i in range(0, len(tokens)):\n",
    "            if i % 2 == 0:\n",
    "                if tokens[i].startswith('raw_data/val_dir'):\n",
    "                    names.append(tokens[i])\n",
    "\n",
    "\n",
    "    filenames = []\n",
    "    commits = []\n",
    "    types = []\n",
    "\n",
    "    for name in names:\n",
    "        filename, commit_id, file_type = parse_file_name(name)\n",
    "        filenames.append(filename)\n",
    "        commits.append(commit_id)\n",
    "        types.append(file_type)\n",
    "\n",
    "    file_vectors = []\n",
    "\n",
    "    for i in range(0, len(names)):\n",
    "        vector_list = vectors_list[i].split()\n",
    "        vector_list = vec_to_float(vector_list)\n",
    "\n",
    "        same_file = [file for file in file_vectors\n",
    "                   if (file.get('name') == filenames[i] and file.get('commit_id') == commits[i])]\n",
    "\n",
    "        if same_file:\n",
    "            if types[i] == 'before':\n",
    "                same_file[0]['vector_before'] = vector_list\n",
    "            elif types[i] == 'after':\n",
    "                same_file[0]['vector_after'] = vector_list\n",
    "        else:\n",
    "            if types[i] == 'before':\n",
    "                file_vec = {'name': filenames[i], 'commit_id': commits[i], 'vector_before': vector_list}\n",
    "            elif types[i] == 'after':\n",
    "                file_vec = {'name': filenames[i], 'commit_id': commits[i], 'vector_after': vector_list}\n",
    "            file_vectors.append(file_vec)\n",
    "\n",
    "    return file_vectors\n",
    "\n",
    "\n",
    "file_vectors = get_file_vectors('../../../data/train/vectors_data/val_raw.txt', '../../../data/train/vectors_data/ts_dataset.val.c2v.vectors')\n",
    "file_test_vectors = get_file_vectors('../../../data/test/vectors_data/components_vectors/val_raw.txt',\n",
    "                                     '../../../data/test/vectors_data/components_vectors/ts_dataset.val.c2v.vectors')\n",
    "\n",
    "data_vectors = pd.DataFrame(file_vectors)\n",
    "data_test_vectors = pd.DataFrame(file_test_vectors)\n",
    "\n",
    "data_vectors = data_vectors.fillna(0)\n",
    "data_test_vectors = data_test_vectors.fillna(0)\n",
    "\n",
    "data_vectors = data_vectors.rename(columns={'name': 'file_name'})\n",
    "data_test_vectors = dadata_test_vectors.rename(columns={'name': 'file_name'})\n",
    "\n",
    "merged = pd.merge(left=data, right=data_vectors, on=['file_name', 'commit_id'], how='inner')\n",
    "merged_test = pd.merge(left=data_test, right=data_test_vectors, on=['file_name', 'commit_id'], how='inner')"
   ],
   "metadata": {
    "collapsed": false,
    "pycharm": {
     "name": "#%%\n"
    }
   }
  },
  {
   "cell_type": "code",
   "execution_count": null,
   "outputs": [],
   "source": [
    "table = merged[['is_added', 'is_deleted', 'is_modified', 'is_renamed', 'file_before', 'file_after', 'commit_type']]\n",
    "table_test = merged_test[['is_added', 'is_deleted', 'is_modified', 'is_renamed', 'file_before', 'file_after', 'commit_type']]"
   ],
   "metadata": {
    "collapsed": false,
    "pycharm": {
     "name": "#%%\n"
    }
   }
  },
  {
   "cell_type": "code",
   "execution_count": null,
   "outputs": [],
   "source": [
    "data_test = table_test[['file_type', 'file_diff_type', 'file_diff']]\n",
    "y_data_test = table_test[['commit_type']]\n",
    "\n",
    "X_train, X_test, y_train, y_test = train_test_split(\n",
    "    table[['file_type', 'file_diff_type', 'file_diff']],\n",
    "    table[['commit_type']], test_size=0.2)"
   ],
   "metadata": {
    "collapsed": false,
    "pycharm": {
     "name": "#%%\n"
    }
   }
  },
  {
   "cell_type": "code",
   "execution_count": 8,
   "outputs": [],
   "source": [
    "nb = MultinomialNB()\n",
    "nb.fit(X_train, y_train)\n",
    "\n",
    "test_score = nb.score(X_test, y_test)\n",
    "train_score = nb.score(X_train, y_train)"
   ],
   "metadata": {
    "collapsed": false,
    "pycharm": {
     "name": "#%%\n"
    }
   }
  },
  {
   "cell_type": "code",
   "execution_count": 10,
   "outputs": [
    {
     "data": {
      "text/plain": "0.46114597544338337"
     },
     "execution_count": 10,
     "metadata": {},
     "output_type": "execute_result"
    }
   ],
   "source": [
    "predicted = nb.predict(data_test)\n",
    "pred_score = nb.score(data_test, y_data_test)"
   ],
   "metadata": {
    "collapsed": false,
    "pycharm": {
     "name": "#%%\n"
    }
   }
  },
  {
   "cell_type": "code",
   "execution_count": null,
   "outputs": [],
   "source": [
    "nb = ComplementNB()\n",
    "nb.fit(X_train, y_train)\n",
    "\n",
    "test_score = nb.score(X_test, y_test)\n",
    "train_score = nb.score(X_train, y_train)"
   ],
   "metadata": {
    "collapsed": false,
    "pycharm": {
     "name": "#%%\n"
    }
   }
  },
  {
   "cell_type": "code",
   "execution_count": null,
   "outputs": [],
   "source": [
    "predicted = nb.predict(data_test)\n",
    "pred_score = nb.score(data_test, y_data_test)"
   ],
   "metadata": {
    "collapsed": false,
    "pycharm": {
     "name": "#%%\n"
    }
   }
  }
 ],
 "metadata": {
  "kernelspec": {
   "display_name": "Python 3",
   "language": "python",
   "name": "python3"
  },
  "language_info": {
   "codemirror_mode": {
    "name": "ipython",
    "version": 2
   },
   "file_extension": ".py",
   "mimetype": "text/x-python",
   "name": "python",
   "nbconvert_exporter": "python",
   "pygments_lexer": "ipython2",
   "version": "2.7.6"
  }
 },
 "nbformat": 4,
 "nbformat_minor": 0
}