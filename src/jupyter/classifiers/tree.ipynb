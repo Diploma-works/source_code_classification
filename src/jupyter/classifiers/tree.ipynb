{
 "cells": [
  {
   "cell_type": "code",
   "execution_count": 2,
   "metadata": {},
   "outputs": [],
   "source": [
    "import pandas as pd\n",
    "import seaborn as sns\n",
    "from matplotlib import pyplot as plt\n",
    "from sklearn.model_selection import train_test_split\n",
    "from sklearn.tree import DecisionTreeClassifier"
   ]
  },
  {
   "cell_type": "code",
   "execution_count": 3,
   "metadata": {
    "pycharm": {
     "name": "#%%\n"
    }
   },
   "outputs": [
    {
     "data": {
      "text/plain": "(44666, 6)"
     },
     "execution_count": 3,
     "metadata": {},
     "output_type": "execute_result"
    }
   ],
   "source": [
    "data = pd.read_csv('../../../data/train/angular_ts.csv')\n",
    "data.head(5)"
   ]
  },
  {
   "cell_type": "code",
   "execution_count": 4,
   "metadata": {
    "pycharm": {
     "name": "#%%\n"
    }
   },
   "outputs": [],
   "source": [
    "data_test = pd.read_csv('../../../data/test/components_ts.csv')\n",
    "data_test.head(5)"
   ]
  },
  {
   "cell_type": "code",
   "execution_count": null,
   "outputs": [],
   "source": [
    "################## making dataset_vec ##################\n",
    "\n",
    "import pandas as pd\n",
    "\n",
    "def parse_file_name(name):\n",
    "    # file name pattern: name_commitId_before/after.ts\n",
    "\n",
    "    index = name.rfind('_')\n",
    "    file_type = name[index+1:-3]\n",
    "\n",
    "    name = name[:index]\n",
    "    index = name.rfind('_')\n",
    "    commit_id = name[index+1:]\n",
    "\n",
    "    name = name[17:index]\n",
    "\n",
    "    index = name.find(':')\n",
    "    if index != -1:\n",
    "        name = name.replace(':', '/')\n",
    "\n",
    "    return name, commit_id, file_type\n",
    "\n",
    "\n",
    "def vec_to_float(list):\n",
    "    list_float = [float(l) for l in list]\n",
    "    return list_float\n",
    "\n",
    "\n",
    "def get_file_vectors(tokens_file, vectors_file):\n",
    "    with open(tokens_file, 'r') as tokens, \\\n",
    "            open(vectors_file, 'r') as vectors:\n",
    "        tokens = tokens.read().splitlines()\n",
    "        vectors_list = vectors.read().splitlines()\n",
    "\n",
    "        names = []\n",
    "        for i in range(0, len(tokens)):\n",
    "            if i % 2 == 0:\n",
    "                if tokens[i].startswith('raw_data/val_dir'):\n",
    "                    names.append(tokens[i])\n",
    "\n",
    "\n",
    "    filenames = []\n",
    "    commits = []\n",
    "    types = []\n",
    "\n",
    "    for name in names:\n",
    "        filename, commit_id, file_type = parse_file_name(name)\n",
    "        filenames.append(filename)\n",
    "        commits.append(commit_id)\n",
    "        types.append(file_type)\n",
    "\n",
    "    file_vectors = []\n",
    "\n",
    "    for i in range(0, len(names)):\n",
    "        vector_list = vectors_list[i].split()\n",
    "        vector_list = vec_to_float(vector_list)\n",
    "\n",
    "        same_file = [file for file in file_vectors\n",
    "                   if (file.get('name') == filenames[i] and file.get('commit_id') == commits[i])]\n",
    "\n",
    "        if same_file:\n",
    "            if types[i] == 'before':\n",
    "                same_file[0]['vector_before'] = vector_list\n",
    "            elif types[i] == 'after':\n",
    "                same_file[0]['vector_after'] = vector_list\n",
    "        else:\n",
    "            if types[i] == 'before':\n",
    "                file_vec = {'name': filenames[i], 'commit_id': commits[i], 'vector_before': vector_list}\n",
    "            elif types[i] == 'after':\n",
    "                file_vec = {'name': filenames[i], 'commit_id': commits[i], 'vector_after': vector_list}\n",
    "            file_vectors.append(file_vec)\n",
    "\n",
    "    return file_vectors\n",
    "\n",
    "\n",
    "file_vectors = get_file_vectors('../../../data/train/vectors_data/val_raw.txt', '../../../data/train/vectors_data/ts_dataset.val.c2v.vectors')\n",
    "file_test_vectors = get_file_vectors('../../../data/test/vectors_data/components_vectors/val_raw.txt',\n",
    "                                     '../../../data/test/vectors_data/components_vectors/ts_dataset.val.c2v.vectors')\n",
    "\n",
    "data_vectors = pd.DataFrame(file_vectors)\n",
    "data_test_vectors = pd.DataFrame(file_test_vectors)\n",
    "\n",
    "data_vectors = data_vectors.fillna(0)\n",
    "data_test_vectors = data_test_vectors.fillna(0)\n",
    "\n",
    "data_vectors = data_vectors.rename(columns={'name': 'file_name'})\n",
    "data_test_vectors = dadata_test_vectors.rename(columns={'name': 'file_name'})\n",
    "\n",
    "merged = pd.merge(left=data, right=data_vectors, on=['file_name', 'commit_id'], how='inner')\n",
    "merged_test = pd.merge(left=data_test, right=data_test_vectors, on=['file_name', 'commit_id'], how='inner')"
   ],
   "metadata": {
    "collapsed": false,
    "pycharm": {
     "name": "#%%\n"
    }
   }
  },
  {
   "cell_type": "code",
   "execution_count": null,
   "outputs": [],
   "source": [
    "table = merged[['is_added', 'is_deleted', 'is_modified', 'is_renamed', 'file_before', 'file_after', 'commit_type']]\n",
    "table_test = merged_test[['is_added', 'is_deleted', 'is_modified', 'is_renamed', 'file_before', 'file_after', 'commit_type']]"
   ],
   "metadata": {
    "collapsed": false,
    "pycharm": {
     "name": "#%%\n"
    }
   }
  },
  {
   "cell_type": "code",
   "execution_count": null,
   "outputs": [],
   "source": [
    "data_test = table_test[['file_type', 'file_diff_type', 'file_diff']]\n",
    "y_data_test = table_test[['commit_type']]\n",
    "\n",
    "X_train, X_test, y_train, y_test = train_test_split(\n",
    "    table[['file_type', 'file_diff_type', 'file_diff']],\n",
    "    table[['commit_type']], test_size=0.2)"
   ],
   "metadata": {
    "collapsed": false,
    "pycharm": {
     "name": "#%%\n"
    }
   }
  },
  {
   "cell_type": "code",
   "execution_count": null,
   "outputs": [],
   "source": [
    "n_neighbors_values = range(1, 50, 5)\n",
    "scores_data = pd.DataFrame()"
   ],
   "metadata": {
    "collapsed": false,
    "pycharm": {
     "name": "#%%\n"
    }
   }
  },
  {
   "cell_type": "code",
   "execution_count": null,
   "outputs": [],
   "source": [
    "max_depth_values = range(5, 100, 5)\n",
    "scores_data_max_depth = pd.DataFrame()"
   ],
   "metadata": {
    "collapsed": false,
    "pycharm": {
     "name": "#%%\n"
    }
   }
  },
  {
   "cell_type": "code",
   "execution_count": 5,
   "metadata": {
    "pycharm": {
     "name": "#%%\n"
    }
   },
   "outputs": [
    {
     "name": "stdout",
     "output_type": "stream",
     "text": [
      "5\n",
      "10\n",
      "15\n",
      "20\n",
      "25\n",
      "30\n",
      "35\n",
      "40\n",
      "45\n",
      "50\n",
      "55\n",
      "60\n",
      "65\n",
      "70\n",
      "75\n",
      "80\n",
      "85\n",
      "90\n",
      "95\n"
     ]
    }
   ],
   "source": [
    "################## looking for the best max_depth ##################\n",
    "\n",
    "for max_depth in max_depth_values:\n",
    "    clf = DecisionTreeClassifier(criterion='entropy', splitter='best', max_depth=max_depth)\n",
    "    clf.fit(X_train, y_train)\n",
    "    test_score = clf.score(X_test, y_test)\n",
    "    train_score = clf.score(X_train, y_train)\n",
    "\n",
    "    score_data = pd.DataFrame({'max_depth': [max_depth],\n",
    "                               'train_score': [train_score],\n",
    "                               'test_score': [test_score]})\n",
    "    scores_data_max_depth = scores_data_max_depth.append(score_data)\n",
    "    print(max_depth)"
   ]
  },
  {
   "cell_type": "code",
   "execution_count": 37,
   "metadata": {
    "pycharm": {
     "name": "#%%\n"
    }
   },
   "outputs": [
    {
     "data": {
      "text/plain": "   max_depth  train_score  test_score\n0          5     0.451164    0.452989\n0         10     0.516792    0.510857\n0         15     0.579061    0.542198\n0         20     0.636852    0.556414\n0         25     0.697442    0.571413\n0         30     0.747481    0.582606\n0         35     0.779581    0.587419\n0         40     0.807372    0.595366\n0         45     0.836533    0.599060\n0         50     0.855368    0.600851\n0         55     0.871236    0.606895\n0         60     0.885397    0.609246\n0         65     0.895696    0.611932\n0         70     0.907226    0.613611\n0         75     0.915006    0.618088\n0         80     0.923570    0.616969\n0         85     0.927544    0.618648\n0         90     0.932162    0.619096\n0         95     0.935912    0.620998",
      "text/html": "<div>\n<style scoped>\n    .dataframe tbody tr th:only-of-type {\n        vertical-align: middle;\n    }\n\n    .dataframe tbody tr th {\n        vertical-align: top;\n    }\n\n    .dataframe thead th {\n        text-align: right;\n    }\n</style>\n<table border=\"1\" class=\"dataframe\">\n  <thead>\n    <tr style=\"text-align: right;\">\n      <th></th>\n      <th>max_depth</th>\n      <th>train_score</th>\n      <th>test_score</th>\n    </tr>\n  </thead>\n  <tbody>\n    <tr>\n      <th>0</th>\n      <td>5</td>\n      <td>0.451164</td>\n      <td>0.452989</td>\n    </tr>\n    <tr>\n      <th>0</th>\n      <td>10</td>\n      <td>0.516792</td>\n      <td>0.510857</td>\n    </tr>\n    <tr>\n      <th>0</th>\n      <td>15</td>\n      <td>0.579061</td>\n      <td>0.542198</td>\n    </tr>\n    <tr>\n      <th>0</th>\n      <td>20</td>\n      <td>0.636852</td>\n      <td>0.556414</td>\n    </tr>\n    <tr>\n      <th>0</th>\n      <td>25</td>\n      <td>0.697442</td>\n      <td>0.571413</td>\n    </tr>\n    <tr>\n      <th>0</th>\n      <td>30</td>\n      <td>0.747481</td>\n      <td>0.582606</td>\n    </tr>\n    <tr>\n      <th>0</th>\n      <td>35</td>\n      <td>0.779581</td>\n      <td>0.587419</td>\n    </tr>\n    <tr>\n      <th>0</th>\n      <td>40</td>\n      <td>0.807372</td>\n      <td>0.595366</td>\n    </tr>\n    <tr>\n      <th>0</th>\n      <td>45</td>\n      <td>0.836533</td>\n      <td>0.599060</td>\n    </tr>\n    <tr>\n      <th>0</th>\n      <td>50</td>\n      <td>0.855368</td>\n      <td>0.600851</td>\n    </tr>\n    <tr>\n      <th>0</th>\n      <td>55</td>\n      <td>0.871236</td>\n      <td>0.606895</td>\n    </tr>\n    <tr>\n      <th>0</th>\n      <td>60</td>\n      <td>0.885397</td>\n      <td>0.609246</td>\n    </tr>\n    <tr>\n      <th>0</th>\n      <td>65</td>\n      <td>0.895696</td>\n      <td>0.611932</td>\n    </tr>\n    <tr>\n      <th>0</th>\n      <td>70</td>\n      <td>0.907226</td>\n      <td>0.613611</td>\n    </tr>\n    <tr>\n      <th>0</th>\n      <td>75</td>\n      <td>0.915006</td>\n      <td>0.618088</td>\n    </tr>\n    <tr>\n      <th>0</th>\n      <td>80</td>\n      <td>0.923570</td>\n      <td>0.616969</td>\n    </tr>\n    <tr>\n      <th>0</th>\n      <td>85</td>\n      <td>0.927544</td>\n      <td>0.618648</td>\n    </tr>\n    <tr>\n      <th>0</th>\n      <td>90</td>\n      <td>0.932162</td>\n      <td>0.619096</td>\n    </tr>\n    <tr>\n      <th>0</th>\n      <td>95</td>\n      <td>0.935912</td>\n      <td>0.620998</td>\n    </tr>\n  </tbody>\n</table>\n</div>"
     },
     "execution_count": 37,
     "metadata": {},
     "output_type": "execute_result"
    }
   ],
   "source": [
    "scores_data_max_depth"
   ]
  },
  {
   "cell_type": "code",
   "execution_count": 43,
   "metadata": {
    "pycharm": {
     "name": "#%%\n"
    }
   },
   "outputs": [
    {
     "data": {
      "text/plain": "   max_depth         type     score\n0          5  train_score  0.451164\n1         10  train_score  0.516792\n2         15  train_score  0.579061\n3         20  train_score  0.636852\n4         25  train_score  0.697442",
      "text/html": "<div>\n<style scoped>\n    .dataframe tbody tr th:only-of-type {\n        vertical-align: middle;\n    }\n\n    .dataframe tbody tr th {\n        vertical-align: top;\n    }\n\n    .dataframe thead th {\n        text-align: right;\n    }\n</style>\n<table border=\"1\" class=\"dataframe\">\n  <thead>\n    <tr style=\"text-align: right;\">\n      <th></th>\n      <th>max_depth</th>\n      <th>type</th>\n      <th>score</th>\n    </tr>\n  </thead>\n  <tbody>\n    <tr>\n      <th>0</th>\n      <td>5</td>\n      <td>train_score</td>\n      <td>0.451164</td>\n    </tr>\n    <tr>\n      <th>1</th>\n      <td>10</td>\n      <td>train_score</td>\n      <td>0.516792</td>\n    </tr>\n    <tr>\n      <th>2</th>\n      <td>15</td>\n      <td>train_score</td>\n      <td>0.579061</td>\n    </tr>\n    <tr>\n      <th>3</th>\n      <td>20</td>\n      <td>train_score</td>\n      <td>0.636852</td>\n    </tr>\n    <tr>\n      <th>4</th>\n      <td>25</td>\n      <td>train_score</td>\n      <td>0.697442</td>\n    </tr>\n  </tbody>\n</table>\n</div>"
     },
     "execution_count": 43,
     "metadata": {},
     "output_type": "execute_result"
    }
   ],
   "source": [
    "scores_data_long = pd.melt(scores_data_max_depth, id_vars=['max_depth'],\n",
    "                           value_vars=['train_score', 'test_score'],\n",
    "                           var_name='type',\n",
    "                           value_name='score')\n",
    "scores_data_long.head()"
   ]
  },
  {
   "cell_type": "code",
   "execution_count": 46,
   "metadata": {
    "pycharm": {
     "name": "#%%\n"
    }
   },
   "outputs": [
    {
     "data": {
      "text/plain": "[(0.0, 100.0)]"
     },
     "execution_count": 46,
     "metadata": {},
     "output_type": "execute_result"
    },
    {
     "data": {
      "text/plain": "<Figure size 720x360 with 1 Axes>",
      "image/png": "[encoded data removed]"
     },
     "metadata": {},
     "output_type": "display_data"
    }
   ],
   "source": [
    "sns.set_style(\"whitegrid\")\n",
    "\n",
    "fig,ax = plt.subplots(figsize=(10,5))\n",
    "plot = sns.lineplot(data=scores_data_long,\n",
    "                    x='max_depth',\n",
    "                    y='score',\n",
    "                    hue='type',\n",
    "                    ax=ax,\n",
    "                    palette='nipy_spectral')\n",
    "ax.set(xlim=(0, 100))\n"
   ]
  },
  {
   "cell_type": "code",
   "execution_count": 47,
   "outputs": [],
   "source": [
    "plot.figure.savefig('../../../data/angular/images/tree/train_test_pred_score_max_depth_5.png')"
   ],
   "metadata": {
    "collapsed": false,
    "pycharm": {
     "name": "#%%\n"
    }
   }
  },
  {
   "cell_type": "code",
   "execution_count": null,
   "outputs": [],
   "source": [
    "################## looking for the best criterion ##################"
   ],
   "metadata": {
    "collapsed": false,
    "pycharm": {
     "name": "#%%\n"
    }
   }
  },
  {
   "cell_type": "code",
   "execution_count": 23,
   "outputs": [],
   "source": [
    "criterion_values = ['entropy', 'gini']\n",
    "scores_data_criterion = pd.DataFrame()"
   ],
   "metadata": {
    "collapsed": false,
    "pycharm": {
     "name": "#%%\n"
    }
   }
  },
  {
   "cell_type": "code",
   "execution_count": 24,
   "outputs": [
    {
     "name": "stdout",
     "output_type": "stream",
     "text": [
      "entropy\n",
      "gini\n"
     ]
    }
   ],
   "source": [
    "for criterion_value in criterion_values:\n",
    "    clf = DecisionTreeClassifier(criterion=criterion_value, splitter='best', max_depth=90)\n",
    "    clf.fit(X_train, y_train)\n",
    "    test_score = clf.score(X_test, y_test)\n",
    "    train_score = clf.score(X_train, y_train)\n",
    "\n",
    "    score_data = pd.DataFrame({'criterion': [criterion_value],\n",
    "                               'train_score': [train_score],\n",
    "                               'test_score': [test_score],\n",
    "                               'predicted_score': [pred_score]})\n",
    "    scores_data_criterion = scores_data_criterion.append(score_data)\n",
    "    print(criterion_value)"
   ],
   "metadata": {
    "collapsed": false,
    "pycharm": {
     "name": "#%%\n"
    }
   }
  },
  {
   "cell_type": "code",
   "execution_count": 25,
   "outputs": [
    {
     "data": {
      "text/plain": "  criterion  train_score  test_score  predicted_score\n0   entropy     0.932609    0.619879         0.113359\n0      gini     0.855788    0.628610         0.094756",
      "text/html": "<div>\n<style scoped>\n    .dataframe tbody tr th:only-of-type {\n        vertical-align: middle;\n    }\n\n    .dataframe tbody tr th {\n        vertical-align: top;\n    }\n\n    .dataframe thead th {\n        text-align: right;\n    }\n</style>\n<table border=\"1\" class=\"dataframe\">\n  <thead>\n    <tr style=\"text-align: right;\">\n      <th></th>\n      <th>criterion</th>\n      <th>train_score</th>\n      <th>test_score</th>\n      <th>predicted_score</th>\n    </tr>\n  </thead>\n  <tbody>\n    <tr>\n      <th>0</th>\n      <td>entropy</td>\n      <td>0.932609</td>\n      <td>0.619879</td>\n      <td>0.113359</td>\n    </tr>\n    <tr>\n      <th>0</th>\n      <td>gini</td>\n      <td>0.855788</td>\n      <td>0.628610</td>\n      <td>0.094756</td>\n    </tr>\n  </tbody>\n</table>\n</div>"
     },
     "execution_count": 25,
     "metadata": {},
     "output_type": "execute_result"
    }
   ],
   "source": [
    "scores_data_criterion"
   ],
   "metadata": {
    "collapsed": false,
    "pycharm": {
     "name": "#%%\n"
    }
   }
  },
  {
   "cell_type": "code",
   "execution_count": 15,
   "outputs": [],
   "source": [
    "################## best estimator ##################"
   ],
   "metadata": {
    "collapsed": false,
    "pycharm": {
     "name": "#%%\n"
    }
   }
  },
  {
   "cell_type": "code",
   "execution_count": 5,
   "outputs": [
    {
     "data": {
      "text/plain": "Pipeline(steps=[('columntransformer',\n                 ColumnTransformer(remainder='passthrough',\n                                   transformers=[('hashingvectorizer',\n                                                  HashingVectorizer(),\n                                                  'file_diff')])),\n                ('decisiontreeclassifier',\n                 DecisionTreeClassifier(max_depth=90))])"
     },
     "execution_count": 5,
     "metadata": {},
     "output_type": "execute_result"
    }
   ],
   "source": [
    "best_clf = DecisionTreeClassifier(criterion='gini', splitter='best', max_depth=80)\n",
    "best_clf.fit(X_train, y_train)"
   ],
   "metadata": {
    "collapsed": false,
    "pycharm": {
     "name": "#%%\n"
    }
   }
  },
  {
   "cell_type": "code",
   "execution_count": 18,
   "outputs": [
    {
     "data": {
      "text/plain": "0.6770035395425009"
     },
     "execution_count": 18,
     "metadata": {},
     "output_type": "execute_result"
    }
   ],
   "source": [
    "test_score = best_clf.score(X_test, y_test)\n",
    "train_score = best_clf.score(X_train, y_train)"
   ],
   "metadata": {
    "collapsed": false,
    "pycharm": {
     "name": "#%%\n"
    }
   }
  },
  {
   "cell_type": "code",
   "execution_count": 20,
   "outputs": [
    {
     "data": {
      "text/plain": "0.09392286125634614"
     },
     "execution_count": 20,
     "metadata": {},
     "output_type": "execute_result"
    }
   ],
   "source": [
    "predicted = best_clf.predict(data_test)\n",
    "pred_score = best_clf.score(data_test, y_data_test)"
   ],
   "metadata": {
    "collapsed": false,
    "pycharm": {
     "name": "#%%\n"
    }
   }
  },
  {
   "cell_type": "code",
   "execution_count": null,
   "outputs": [],
   "source": [],
   "metadata": {
    "collapsed": false,
    "pycharm": {
     "name": "#%%\n"
    }
   }
  }
 ],
 "metadata": {
  "kernelspec": {
   "display_name": "Python 3",
   "language": "python",
   "name": "python3"
  },
  "language_info": {
   "codemirror_mode": {
    "name": "ipython",
    "version": 2
   },
   "file_extension": ".py",
   "mimetype": "text/x-python",
   "name": "python",
   "nbconvert_exporter": "python",
   "pygments_lexer": "ipython2",
   "version": "2.7.6"
  }
 },
 "nbformat": 4,
 "nbformat_minor": 1
}